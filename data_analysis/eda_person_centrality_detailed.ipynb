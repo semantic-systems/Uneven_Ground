{
 "cells": [
  {
   "cell_type": "code",
   "execution_count": 1,
   "id": "initial_id",
   "metadata": {
    "ExecuteTime": {
     "end_time": "2025-05-13T09:36:45.248838Z",
     "start_time": "2025-05-13T09:36:44.923134Z"
    },
    "collapsed": true
   },
   "outputs": [],
   "source": [
    "import os\n",
    "import json\n",
    "import pickle\n",
    "from collections import defaultdict\n",
    "\n",
    "import pandas as pd"
   ]
  },
  {
   "cell_type": "code",
   "execution_count": 2,
   "id": "985f08a5614821af",
   "metadata": {
    "ExecuteTime": {
     "end_time": "2025-05-13T09:36:46.405007Z",
     "start_time": "2025-05-13T09:36:45.249414Z"
    }
   },
   "outputs": [],
   "source": [
    "with open(os.path.join(\"..\", \"data\", \"person_object_counts\", \"wikidata-20250127-person-object-counts-new.pkl\"), 'rb') as pickle_file:\n",
    "    person_objects_counter = pickle.load(pickle_file)"
   ]
  },
  {
   "cell_type": "code",
   "execution_count": 3,
   "id": "d0e74ca14da48395",
   "metadata": {
    "ExecuteTime": {
     "end_time": "2025-05-13T09:36:46.407907Z",
     "start_time": "2025-05-13T09:36:46.406328Z"
    }
   },
   "outputs": [],
   "source": [
    "def get_num_incoming_claims(person_id):\n",
    "    return person_objects_counter[person_id]"
   ]
  },
  {
   "cell_type": "code",
   "execution_count": 4,
   "id": "d277d7533b949321",
   "metadata": {
    "ExecuteTime": {
     "end_time": "2025-05-13T09:36:46.411394Z",
     "start_time": "2025-05-13T09:36:46.408659Z"
    }
   },
   "outputs": [],
   "source": [
    "with open(\"worldbank_country_classification_march2025.json\") as f:\n",
    "        country_income_class_dict = json.load(f)\n",
    "def get_country_income_class(country_id):\n",
    "    for income_class in country_income_class_dict.keys():\n",
    "        if country_id in country_income_class_dict[income_class]:\n",
    "            return income_class\n",
    "        else:\n",
    "            continue\n",
    "    return \"undefined\""
   ]
  },
  {
   "cell_type": "code",
   "execution_count": 5,
   "id": "cba6458672c4542b",
   "metadata": {
    "ExecuteTime": {
     "end_time": "2025-05-13T09:36:46.428606Z",
     "start_time": "2025-05-13T09:36:46.412108Z"
    }
   },
   "outputs": [],
   "source": [
    "stats = defaultdict(dict)\n",
    "for income_class in country_income_class_dict.keys():\n",
    "    with open(os.path.join(\"..\", \"data\", \"person_level_degrees\", \"country_stats\", f\"{income_class}.json\")) as f:\n",
    "        stats[income_class] = json.load(f)"
   ]
  },
  {
   "cell_type": "code",
   "execution_count": 14,
   "id": "30a10b00a6a218f3",
   "metadata": {
    "ExecuteTime": {
     "end_time": "2025-05-13T09:48:34.083453Z",
     "start_time": "2025-05-13T09:48:34.078680Z"
    }
   },
   "outputs": [
    {
     "data": {
      "text/plain": [
       "{'indegrees': {'mean': 0.5014277555682467,\n",
       "  'std': 1.7209274641100365,\n",
       "  'min': 0,\n",
       "  'max': 27},\n",
       " 'outdegrees': {'mean': 17.741005139920045,\n",
       "  'std': 13.261527120194483,\n",
       "  'min': 2,\n",
       "  'max': 227},\n",
       " 'num_people': 3502}"
      ]
     },
     "execution_count": 14,
     "metadata": {},
     "output_type": "execute_result"
    }
   ],
   "source": [
    "stats[\"low_income\"][\"Q858\"]"
   ]
  },
  {
   "cell_type": "code",
   "execution_count": 15,
   "id": "74cb41318831765d",
   "metadata": {
    "ExecuteTime": {
     "end_time": "2025-05-13T09:48:40.968993Z",
     "start_time": "2025-05-13T09:48:40.949058Z"
    }
   },
   "outputs": [],
   "source": [
    "with open(os.path.join(\"..\", \"data\", \"indegrees_by_country\", \"low_income\", \"Q858.jsonl\")) as f:\n",
    "    person_stats = []\n",
    "    for line in f:\n",
    "        entry = json.loads(line)\n",
    "        person_stats.append(entry)"
   ]
  },
  {
   "cell_type": "code",
   "execution_count": 16,
   "id": "1f60dbd98b274ec4",
   "metadata": {
    "ExecuteTime": {
     "end_time": "2025-05-13T09:48:50.938258Z",
     "start_time": "2025-05-13T09:48:50.934582Z"
    }
   },
   "outputs": [
    {
     "name": "stdout",
     "output_type": "stream",
     "text": [
      "{'person_id': 'Q12227911', 'birth_date': 1909, 'genders': ['Q6581097'], 'occupations': ['Q1930187', 'Q16533', 'Q1999841', 'Q6673651', 'Q36180', 'Q974144'], 'num_outgoing_claims': 67, 'num_incoming_claims': 24}\n",
      "{'person_id': 'Q560078', 'birth_date': 1914, 'genders': ['Q6581097'], 'occupations': ['Q36180', 'Q1622272', 'Q154549', 'Q157798', 'Q1234713'], 'num_outgoing_claims': 71, 'num_incoming_claims': 22}\n",
      "{'person_id': 'Q982936', 'birth_date': 1933, 'genders': ['Q6581097'], 'occupations': ['Q19340487', 'Q36180', 'Q1423891'], 'num_outgoing_claims': 43, 'num_incoming_claims': 27}\n"
     ]
    }
   ],
   "source": [
    "for p in person_stats:\n",
    "    if p[\"num_incoming_claims\"] > 20:\n",
    "        print(p)"
   ]
  },
  {
   "cell_type": "code",
   "execution_count": 17,
   "id": "9f27349ed181fd37",
   "metadata": {
    "ExecuteTime": {
     "end_time": "2025-05-13T09:48:55.538116Z",
     "start_time": "2025-05-13T09:48:55.534251Z"
    }
   },
   "outputs": [
    {
     "name": "stdout",
     "output_type": "stream",
     "text": [
      "{'person_id': 'Q11711778', 'birth_date': 1957, 'genders': ['Q6581097'], 'occupations': ['Q10873124'], 'num_outgoing_claims': 227, 'num_incoming_claims': 0}\n",
      "{'person_id': 'Q27525908', 'birth_date': 1968, 'genders': ['Q6581097'], 'occupations': ['Q10873124'], 'num_outgoing_claims': 203, 'num_incoming_claims': 0}\n"
     ]
    }
   ],
   "source": [
    "for p in person_stats:\n",
    "    if p[\"num_outgoing_claims\"] > 200:\n",
    "        print(p)"
   ]
  }
 ],
 "metadata": {
  "kernelspec": {
   "display_name": "Python 3",
   "language": "python",
   "name": "python3"
  },
  "language_info": {
   "codemirror_mode": {
    "name": "ipython",
    "version": 2
   },
   "file_extension": ".py",
   "mimetype": "text/x-python",
   "name": "python",
   "nbconvert_exporter": "python",
   "pygments_lexer": "ipython2",
   "version": "2.7.6"
  }
 },
 "nbformat": 4,
 "nbformat_minor": 5
}
