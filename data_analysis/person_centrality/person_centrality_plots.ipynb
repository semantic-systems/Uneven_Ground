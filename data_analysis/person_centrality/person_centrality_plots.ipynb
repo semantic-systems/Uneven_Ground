{
 "cells": [
  {
   "cell_type": "markdown",
   "id": "5b1ecfc5",
   "metadata": {},
   "source": [
    "# Plot person centrality"
   ]
  },
  {
   "cell_type": "code",
   "execution_count": 1,
   "id": "6553f90f",
   "metadata": {},
   "outputs": [],
   "source": [
    "import os\n",
    "import json\n",
    "import pickle\n",
    "from collections import defaultdict\n",
    "\n",
    "import pandas as pd\n",
    "import matplotlib.pyplot as plt"
   ]
  },
  {
   "cell_type": "code",
   "execution_count": 2,
   "id": "581995e3",
   "metadata": {},
   "outputs": [],
   "source": [
    "data_dir = os.path.join(\"..\", \"..\", \"data\", \"person_level_degrees\", \"raw_degrees\")\n",
    "income_wise_degrees = defaultdict(lambda: defaultdict(list))"
   ]
  },
  {
   "cell_type": "code",
   "execution_count": 3,
   "id": "bb50b9c7",
   "metadata": {},
   "outputs": [],
   "source": [
    "for pickle_file in os.listdir(data_dir):\n",
    "    with open(os.path.join(data_dir, pickle_file), 'rb') as f:\n",
    "        name_elems = pickle_file.split(\".\")[0].split(\"_\")\n",
    "        income_class = name_elems[0]\n",
    "        degree_type = name_elems[-1]\n",
    "        income_wise_degrees[degree_type][income_class] = pickle.load(f)"
   ]
  },
  {
   "cell_type": "code",
   "execution_count": 4,
   "id": "901e5829",
   "metadata": {},
   "outputs": [
    {
     "data": {
      "text/plain": [
       "dict_keys(['indegrees', 'outdegrees'])"
      ]
     },
     "execution_count": 4,
     "metadata": {},
     "output_type": "execute_result"
    }
   ],
   "source": [
    "income_wise_degrees.keys()"
   ]
  },
  {
   "cell_type": "code",
   "execution_count": 5,
   "id": "9c4ce53e",
   "metadata": {},
   "outputs": [
    {
     "data": {
      "text/plain": [
       "dict_keys(['upper-middle', 'low', 'lower-middle', 'high'])"
      ]
     },
     "execution_count": 5,
     "metadata": {},
     "output_type": "execute_result"
    }
   ],
   "source": [
    "income_wise_degrees['indegrees'].keys()"
   ]
  },
  {
   "cell_type": "code",
   "execution_count": 6,
   "id": "6a1795e0",
   "metadata": {},
   "outputs": [
    {
     "name": "stdout",
     "output_type": "stream",
     "text": [
      "574448\n",
      "35315\n",
      "221494\n",
      "3290471\n"
     ]
    }
   ],
   "source": [
    "for l in income_wise_degrees['indegrees'].values():\n",
    "    print(len(l))"
   ]
  },
  {
   "cell_type": "code",
   "execution_count": 8,
   "id": "09ffbc4f",
   "metadata": {},
   "outputs": [
    {
     "data": {
      "image/png": "[encoded data removed]",
      "text/plain": [
       "<Figure size 360x288 with 1 Axes>"
      ]
     },
     "metadata": {
      "needs_background": "light"
     },
     "output_type": "display_data"
    }
   ],
   "source": [
    "fig, axs = plt.subplots(nrows=1, ncols=1, figsize=(5, 4))\n",
    "\n",
    "income_classes = [\"low\", \"lower-middle\", \"upper-middle\", \"high\"]\n",
    "all_data = [income_wise_degrees['outdegrees'][i] for i in income_classes]\n",
    "\n",
    "\n",
    "# plot box plot\n",
    "axs.violinplot(all_data, showmedians=True)\n",
    "axs.set_title('Outdegree distribution for person entities')\n",
    "\n",
    "plt.yscale('log')\n",
    "\n",
    "# adding horizontal grid lines\n",
    "axs.yaxis.grid(True)\n",
    "axs.set_xticks([y + 1 for y in range(len(all_data))],\n",
    "                labels=[\"Low\", \"Lower-Mid\", \"Upper-Mid\", \"High\"])\n",
    "\n",
    "plt.tight_layout()\n",
    "plt.savefig(os.path.join(\"..\", \"..\", \"data\", \"plots\", \"person_outdregees_violinplot.png\"), dpi=300)"
   ]
  },
  {
   "cell_type": "code",
   "execution_count": null,
   "id": "c787dcd4",
   "metadata": {},
   "outputs": [],
   "source": []
  }
 ],
 "metadata": {
  "kernelspec": {
   "display_name": "nlg-bias",
   "language": "python",
   "name": "python3"
  },
  "language_info": {
   "codemirror_mode": {
    "name": "ipython",
    "version": 3
   },
   "file_extension": ".py",
   "mimetype": "text/x-python",
   "name": "python",
   "nbconvert_exporter": "python",
   "pygments_lexer": "ipython3",
   "version": "3.9.7"
  }
 },
 "nbformat": 4,
 "nbformat_minor": 5
}
