{
 "cells": [
  {
   "cell_type": "code",
   "execution_count": 2,
   "id": "initial_id",
   "metadata": {
    "collapsed": true,
    "ExecuteTime": {
     "end_time": "2025-04-08T11:31:19.257324Z",
     "start_time": "2025-04-08T11:31:18.639273Z"
    }
   },
   "outputs": [],
   "source": [
    "import os\n",
    "import pandas as pd\n",
    "from itertools import chain\n",
    "from SPARQLWrapper import SPARQLWrapper, JSON\n"
   ]
  },
  {
   "cell_type": "code",
   "execution_count": 4,
   "outputs": [],
   "source": [
    "persons = pd.read_json(path_or_buf=os.path.join(\"..\", \"..\", \"data/tmp\", \"persons_Q800.jsonl\"), lines=True)"
   ],
   "metadata": {
    "collapsed": false,
    "ExecuteTime": {
     "end_time": "2025-04-08T11:36:01.636702Z",
     "start_time": "2025-04-08T11:36:00.134416Z"
    }
   },
   "id": "ebf8a8e61166c392"
  },
  {
   "cell_type": "code",
   "execution_count": 5,
   "outputs": [
    {
     "data": {
      "text/plain": "      type          id                                             labels  \\\n0     item      Q57321  {'lb': {'language': 'lb', 'value': 'Laura Chin...   \n1     item     Q211061  {'ru': {'language': 'ru', 'value': 'Драмонд, К...   \n2     item     Q348649  {'zh-hans': {'language': 'zh-hans', 'value': '...   \n3     item     Q360433  {'pt': {'language': 'pt', 'value': 'Franklin C...   \n4     item     Q365359  {'pt': {'language': 'pt', 'value': 'Mario Echa...   \n...    ...         ...                                                ...   \n2560  item  Q125573387  {'en': {'language': 'en', 'value': 'Carlos Ova...   \n2561  item  Q125863514  {'en': {'language': 'en', 'value': 'Édgar Muri...   \n2562  item  Q126888937  {'en': {'language': 'en', 'value': 'Gabriela R...   \n2563  item  Q128214388  {'en': {'language': 'en', 'value': 'Leslie Fei...   \n2564  item  Q130759656  {'es': {'language': 'es', 'value': 'Sol Carbal...   \n\n                                           descriptions  \\\n0     {'it': {'language': 'it', 'value': 'politica c...   \n1     {'fa': {'language': 'fa', 'value': 'بوکسور کاس...   \n2     {'it': {'language': 'it', 'value': 'attore e b...   \n3     {'it': {'language': 'it', 'value': 'astronauta...   \n4     {'de': {'language': 'de', 'value': 'costa-rica...   \n...                                                 ...   \n2560  {'en': {'language': 'en', 'value': 'costarican...   \n2561  {'en': {'language': 'en', 'value': 'costarican...   \n2562  {'en': {'language': 'en', 'value': 'United Nat...   \n2563  {'en': {'language': 'en', 'value': 'Costa Rica...   \n2564  {'es': {'language': 'es', 'value': 'bailarina ...   \n\n                                                aliases  \\\n0     {'ko': [{'language': 'ko', 'value': '로라 친칠라'},...   \n1     {'ru': [{'language': 'ru', 'value': 'Карл Дэви...   \n2     {'pl': [{'language': 'pl', 'value': 'Harry Shu...   \n3     {'en': [{'language': 'en', 'value': 'Franklin ...   \n4     {'fr': [{'language': 'fr', 'value': 'Mario Ech...   \n...                                                 ...   \n2560  {'en': [{'language': 'en', 'value': 'macho'}],...   \n2561  {'en': [{'language': 'en', 'value': 'cholo'}],...   \n2562                                                 {}   \n2563                                                 {}   \n2564  {'es': [{'language': 'es', 'value': 'Sol Carba...   \n\n                                                 claims  \\\n0     {'P27': [{'mainsnak': {'snaktype': 'value', 'p...   \n1     {'P31': [{'mainsnak': {'snaktype': 'value', 'p...   \n2     {'P21': [{'mainsnak': {'snaktype': 'value', 'p...   \n3     {'P21': [{'mainsnak': {'snaktype': 'value', 'p...   \n4     {'P21': [{'mainsnak': {'snaktype': 'value', 'p...   \n...                                                 ...   \n2560  {'P31': [{'mainsnak': {'snaktype': 'value', 'p...   \n2561  {'P31': [{'mainsnak': {'snaktype': 'value', 'p...   \n2562  {'P31': [{'mainsnak': {'snaktype': 'value', 'p...   \n2563  {'P31': [{'mainsnak': {'snaktype': 'value', 'p...   \n2564  {'P31': [{'mainsnak': {'snaktype': 'value', 'p...   \n\n                                              sitelinks     pageid  ns  \\\n0     {'plwikiquote': {'site': 'plwikiquote', 'title...      60140   0   \n1     {'ruwiki': {'site': 'ruwiki', 'title': 'Драмон...     206779   0   \n2     {'enwiki': {'site': 'enwiki', 'title': 'Harry ...     333338   0   \n3     {'commonswiki': {'site': 'commonswiki', 'title...     343572   0   \n4     {'commonswiki': {'site': 'commonswiki', 'title...     347922   0   \n...                                                 ...        ...  ..   \n2560  {'eswiki': {'site': 'eswiki', 'title': 'Carlos...  119690785   0   \n2561  {'eswiki': {'site': 'eswiki', 'title': 'Édgar ...  119952960   0   \n2562                                                 {}  120897767   0   \n2563  {'enwiki': {'site': 'enwiki', 'title': 'Leslie...  122196308   0   \n2564                                                 {}  124665487   0   \n\n           title   lastrevid                  modified  \n0         Q57321  2265302423 2024-10-26 12:02:13+00:00  \n1        Q211061  1967460768 2023-09-03 15:55:25+00:00  \n2        Q348649  2252251487 2024-09-24 03:33:48+00:00  \n3        Q360433  2273344752 2024-11-11 18:14:37+00:00  \n4        Q365359  2285766915 2024-12-10 19:16:31+00:00  \n...          ...         ...                       ...  \n2560  Q125573387  2204877034 2024-07-15 10:55:11+00:00  \n2561  Q125863514  2204901284 2024-07-15 11:29:07+00:00  \n2562  Q126888937  2186903399 2024-06-23 10:40:55+00:00  \n2563  Q128214388  2231752127 2024-08-19 23:04:02+00:00  \n2564  Q130759656  2288570505 2024-12-17 08:57:59+00:00  \n\n[2565 rows x 12 columns]",
      "text/html": "<div>\n<style scoped>\n    .dataframe tbody tr th:only-of-type {\n        vertical-align: middle;\n    }\n\n    .dataframe tbody tr th {\n        vertical-align: top;\n    }\n\n    .dataframe thead th {\n        text-align: right;\n    }\n</style>\n<table border=\"1\" class=\"dataframe\">\n  <thead>\n    <tr style=\"text-align: right;\">\n      <th></th>\n      <th>type</th>\n      <th>id</th>\n      <th>labels</th>\n      <th>descriptions</th>\n      <th>aliases</th>\n      <th>claims</th>\n      <th>sitelinks</th>\n      <th>pageid</th>\n      <th>ns</th>\n      <th>title</th>\n      <th>lastrevid</th>\n      <th>modified</th>\n    </tr>\n  </thead>\n  <tbody>\n    <tr>\n      <th>0</th>\n      <td>item</td>\n      <td>Q57321</td>\n      <td>{'lb': {'language': 'lb', 'value': 'Laura Chin...</td>\n      <td>{'it': {'language': 'it', 'value': 'politica c...</td>\n      <td>{'ko': [{'language': 'ko', 'value': '로라 친칠라'},...</td>\n      <td>{'P27': [{'mainsnak': {'snaktype': 'value', 'p...</td>\n      <td>{'plwikiquote': {'site': 'plwikiquote', 'title...</td>\n      <td>60140</td>\n      <td>0</td>\n      <td>Q57321</td>\n      <td>2265302423</td>\n      <td>2024-10-26 12:02:13+00:00</td>\n    </tr>\n    <tr>\n      <th>1</th>\n      <td>item</td>\n      <td>Q211061</td>\n      <td>{'ru': {'language': 'ru', 'value': 'Драмонд, К...</td>\n      <td>{'fa': {'language': 'fa', 'value': 'بوکسور کاس...</td>\n      <td>{'ru': [{'language': 'ru', 'value': 'Карл Дэви...</td>\n      <td>{'P31': [{'mainsnak': {'snaktype': 'value', 'p...</td>\n      <td>{'ruwiki': {'site': 'ruwiki', 'title': 'Драмон...</td>\n      <td>206779</td>\n      <td>0</td>\n      <td>Q211061</td>\n      <td>1967460768</td>\n      <td>2023-09-03 15:55:25+00:00</td>\n    </tr>\n    <tr>\n      <th>2</th>\n      <td>item</td>\n      <td>Q348649</td>\n      <td>{'zh-hans': {'language': 'zh-hans', 'value': '...</td>\n      <td>{'it': {'language': 'it', 'value': 'attore e b...</td>\n      <td>{'pl': [{'language': 'pl', 'value': 'Harry Shu...</td>\n      <td>{'P21': [{'mainsnak': {'snaktype': 'value', 'p...</td>\n      <td>{'enwiki': {'site': 'enwiki', 'title': 'Harry ...</td>\n      <td>333338</td>\n      <td>0</td>\n      <td>Q348649</td>\n      <td>2252251487</td>\n      <td>2024-09-24 03:33:48+00:00</td>\n    </tr>\n    <tr>\n      <th>3</th>\n      <td>item</td>\n      <td>Q360433</td>\n      <td>{'pt': {'language': 'pt', 'value': 'Franklin C...</td>\n      <td>{'it': {'language': 'it', 'value': 'astronauta...</td>\n      <td>{'en': [{'language': 'en', 'value': 'Franklin ...</td>\n      <td>{'P21': [{'mainsnak': {'snaktype': 'value', 'p...</td>\n      <td>{'commonswiki': {'site': 'commonswiki', 'title...</td>\n      <td>343572</td>\n      <td>0</td>\n      <td>Q360433</td>\n      <td>2273344752</td>\n      <td>2024-11-11 18:14:37+00:00</td>\n    </tr>\n    <tr>\n      <th>4</th>\n      <td>item</td>\n      <td>Q365359</td>\n      <td>{'pt': {'language': 'pt', 'value': 'Mario Echa...</td>\n      <td>{'de': {'language': 'de', 'value': 'costa-rica...</td>\n      <td>{'fr': [{'language': 'fr', 'value': 'Mario Ech...</td>\n      <td>{'P21': [{'mainsnak': {'snaktype': 'value', 'p...</td>\n      <td>{'commonswiki': {'site': 'commonswiki', 'title...</td>\n      <td>347922</td>\n      <td>0</td>\n      <td>Q365359</td>\n      <td>2285766915</td>\n      <td>2024-12-10 19:16:31+00:00</td>\n    </tr>\n    <tr>\n      <th>...</th>\n      <td>...</td>\n      <td>...</td>\n      <td>...</td>\n      <td>...</td>\n      <td>...</td>\n      <td>...</td>\n      <td>...</td>\n      <td>...</td>\n      <td>...</td>\n      <td>...</td>\n      <td>...</td>\n      <td>...</td>\n    </tr>\n    <tr>\n      <th>2560</th>\n      <td>item</td>\n      <td>Q125573387</td>\n      <td>{'en': {'language': 'en', 'value': 'Carlos Ova...</td>\n      <td>{'en': {'language': 'en', 'value': 'costarican...</td>\n      <td>{'en': [{'language': 'en', 'value': 'macho'}],...</td>\n      <td>{'P31': [{'mainsnak': {'snaktype': 'value', 'p...</td>\n      <td>{'eswiki': {'site': 'eswiki', 'title': 'Carlos...</td>\n      <td>119690785</td>\n      <td>0</td>\n      <td>Q125573387</td>\n      <td>2204877034</td>\n      <td>2024-07-15 10:55:11+00:00</td>\n    </tr>\n    <tr>\n      <th>2561</th>\n      <td>item</td>\n      <td>Q125863514</td>\n      <td>{'en': {'language': 'en', 'value': 'Édgar Muri...</td>\n      <td>{'en': {'language': 'en', 'value': 'costarican...</td>\n      <td>{'en': [{'language': 'en', 'value': 'cholo'}],...</td>\n      <td>{'P31': [{'mainsnak': {'snaktype': 'value', 'p...</td>\n      <td>{'eswiki': {'site': 'eswiki', 'title': 'Édgar ...</td>\n      <td>119952960</td>\n      <td>0</td>\n      <td>Q125863514</td>\n      <td>2204901284</td>\n      <td>2024-07-15 11:29:07+00:00</td>\n    </tr>\n    <tr>\n      <th>2562</th>\n      <td>item</td>\n      <td>Q126888937</td>\n      <td>{'en': {'language': 'en', 'value': 'Gabriela R...</td>\n      <td>{'en': {'language': 'en', 'value': 'United Nat...</td>\n      <td>{}</td>\n      <td>{'P31': [{'mainsnak': {'snaktype': 'value', 'p...</td>\n      <td>{}</td>\n      <td>120897767</td>\n      <td>0</td>\n      <td>Q126888937</td>\n      <td>2186903399</td>\n      <td>2024-06-23 10:40:55+00:00</td>\n    </tr>\n    <tr>\n      <th>2563</th>\n      <td>item</td>\n      <td>Q128214388</td>\n      <td>{'en': {'language': 'en', 'value': 'Leslie Fei...</td>\n      <td>{'en': {'language': 'en', 'value': 'Costa Rica...</td>\n      <td>{}</td>\n      <td>{'P31': [{'mainsnak': {'snaktype': 'value', 'p...</td>\n      <td>{'enwiki': {'site': 'enwiki', 'title': 'Leslie...</td>\n      <td>122196308</td>\n      <td>0</td>\n      <td>Q128214388</td>\n      <td>2231752127</td>\n      <td>2024-08-19 23:04:02+00:00</td>\n    </tr>\n    <tr>\n      <th>2564</th>\n      <td>item</td>\n      <td>Q130759656</td>\n      <td>{'es': {'language': 'es', 'value': 'Sol Carbal...</td>\n      <td>{'es': {'language': 'es', 'value': 'bailarina ...</td>\n      <td>{'es': [{'language': 'es', 'value': 'Sol Carba...</td>\n      <td>{'P31': [{'mainsnak': {'snaktype': 'value', 'p...</td>\n      <td>{}</td>\n      <td>124665487</td>\n      <td>0</td>\n      <td>Q130759656</td>\n      <td>2288570505</td>\n      <td>2024-12-17 08:57:59+00:00</td>\n    </tr>\n  </tbody>\n</table>\n<p>2565 rows × 12 columns</p>\n</div>"
     },
     "execution_count": 5,
     "metadata": {},
     "output_type": "execute_result"
    }
   ],
   "source": [
    "persons"
   ],
   "metadata": {
    "collapsed": false,
    "ExecuteTime": {
     "end_time": "2025-04-08T11:36:02.618043Z",
     "start_time": "2025-04-08T11:36:02.211921Z"
    }
   },
   "id": "dfd42ace1210df32"
  },
  {
   "cell_type": "code",
   "execution_count": 23,
   "outputs": [],
   "source": [
    "def get_triples_all_persons(persons_df):\n",
    "    triples_all_persons = {}\n",
    "\n",
    "    for i in range(len(persons_df)):\n",
    "        person = persons_df.iloc[i]\n",
    "        qid = person[\"id\"]\n",
    "        triples_per_person = get_triples_per_person(qid, person)\n",
    "        triples_all_persons[qid] = triples_per_person\n",
    "    return triples_all_persons\n",
    "\n",
    "def get_triples_per_person(qid, person):\n",
    "    triples_per_person = []\n",
    "\n",
    "    for pid, values in person[\"claims\"].items():\n",
    "        triples = []\n",
    "        value_types = []\n",
    "\n",
    "        for snaks in values:\n",
    "            value = None\n",
    "            try:\n",
    "                a = snaks[\"mainsnak\"][\"datavalue\"]\n",
    "            except KeyError:\n",
    "                print(snaks[\"mainsnak\"])\n",
    "            if snaks[\"mainsnak\"][\"snaktype\"] in [\"novalue\", \"somevalue\"]:\n",
    "                continue\n",
    "            else:\n",
    "                value_type = snaks[\"mainsnak\"][\"datavalue\"][\"type\"]\n",
    "    \n",
    "            if value_type not in value_types:\n",
    "                value_types.append(value_type)\n",
    "            if value_type == \"string\":\n",
    "                value = snaks[\"mainsnak\"][\"datavalue\"][\"value\"]\n",
    "            if value_type == \"time\":\n",
    "                value = snaks[\"mainsnak\"][\"datavalue\"][\"value\"][\"time\"]\n",
    "            if value_type == \"wikibase-entityid\":\n",
    "                value = snaks[\"mainsnak\"][\"datavalue\"][\"value\"][\"id\"]\n",
    "            if value_type == \"quantity\":\n",
    "                value = snaks[\"mainsnak\"][\"datavalue\"][\"value\"][\"amount\"]\n",
    "            if value is not None:\n",
    "                triples.append((qid, pid, value))\n",
    "        triples_per_person.append(triples)\n",
    "    return list(chain(*triples_per_person))\n",
    "\n",
    "def get_all_predicates(all_triples):\n",
    "    return {triple[1] for triples in all_triples.values() for triple in triples}\n",
    "\n",
    "\n",
    "def get_value_from_pid(pid, pid_to_label_map={}):\n",
    "    if pid not in pid_to_label_map.keys():\n",
    "        sparql = SPARQLWrapper(\"https://query.wikidata.org/sparql\", agent=\"bench-gap\")\n",
    "        sparql.setQuery(f\"\"\" \n",
    "                        SELECT  *\n",
    "                        WHERE\n",
    "        {{\n",
    "                        wd:{pid} rdfs:label ?label .\n",
    "        }} \n",
    "        \"\"\")\n",
    "        sparql.setReturnFormat(JSON)\n",
    "        query_result = sparql.query().convert()\n",
    "        query_result = get_query_result_in_en(query_result)\n",
    "        try:\n",
    "            value = query_result[\"label\"][\"value\"]\n",
    "            language = query_result[\"label\"][\"xml:lang\"]\n",
    "        except:\n",
    "            print(pid, query_result)\n",
    "            return None, pid_to_label_map\n",
    "        pid_to_label_map[pid] = value\n",
    "        return value, pid_to_label_map\n",
    "    else:\n",
    "        return pid_to_label_map[pid], pid_to_label_map\n",
    "        \n",
    "        \n",
    "def get_query_result_in_en(query_result):\n",
    "    is_english = False\n",
    "    for result in query_result[\"results\"][\"bindings\"]:\n",
    "        if result[\"label\"][\"xml:lang\"] == \"en\":\n",
    "            is_english = True\n",
    "        if is_english:\n",
    "            return result\n",
    "    if not is_english:\n",
    "        raise ValueError(\"Non-english property\")\n",
    "    \n",
    "\n",
    "\n"
   ],
   "metadata": {
    "collapsed": false,
    "ExecuteTime": {
     "end_time": "2025-04-08T11:46:20.792879Z",
     "start_time": "2025-04-08T11:46:20.765708Z"
    }
   },
   "id": "a986d419ec334a52"
  },
  {
   "cell_type": "code",
   "execution_count": 9,
   "outputs": [
    {
     "ename": "NameError",
     "evalue": "name 'Q123557115' is not defined",
     "output_type": "error",
     "traceback": [
      "\u001B[0;31m---------------------------------------------------------------------------\u001B[0m",
      "\u001B[0;31mNameError\u001B[0m                                 Traceback (most recent call last)",
      "Cell \u001B[0;32mIn[9], line 1\u001B[0m\n\u001B[0;32m----> 1\u001B[0m \u001B[43mQ123557115\u001B[49m\n",
      "\u001B[0;31mNameError\u001B[0m: name 'Q123557115' is not defined"
     ]
    }
   ],
   "source": [
    "Q123557115"
   ],
   "metadata": {
    "collapsed": false,
    "ExecuteTime": {
     "end_time": "2025-04-08T11:37:22.822199Z",
     "start_time": "2025-04-08T11:37:22.802801Z"
    }
   },
   "id": "1e3a988081202b49"
  },
  {
   "cell_type": "code",
   "execution_count": 26,
   "outputs": [
    {
     "name": "stdout",
     "output_type": "stream",
     "text": [
      "{'snaktype': 'novalue', 'property': 'P54', 'datatype': 'wikibase-item'}\n",
      "{'snaktype': 'somevalue', 'property': 'P570', 'datatype': 'time'}\n",
      "{'snaktype': 'somevalue', 'property': 'P569', 'datatype': 'time'}\n",
      "{'snaktype': 'somevalue', 'property': 'P570', 'datatype': 'time'}\n",
      "{'snaktype': 'somevalue', 'property': 'P20', 'datatype': 'wikibase-item'}\n",
      "{'snaktype': 'somevalue', 'property': 'P570', 'datatype': 'time'}\n",
      "{'snaktype': 'somevalue', 'property': 'P570', 'datatype': 'time'}\n",
      "{'snaktype': 'somevalue', 'property': 'P570', 'datatype': 'time'}\n",
      "{'snaktype': 'novalue', 'property': 'P2446', 'datatype': 'external-id'}\n",
      "{'snaktype': 'novalue', 'property': 'P2020', 'datatype': 'external-id'}\n"
     ]
    }
   ],
   "source": [
    "all_triples = get_triples_all_persons(persons)\n",
    "all_predicates = {triple[1] for triples in all_triples.values() for triple in triples}\n",
    "pid_to_label_map = {}"
   ],
   "metadata": {
    "collapsed": false,
    "ExecuteTime": {
     "end_time": "2025-04-08T11:46:31.893840Z",
     "start_time": "2025-04-08T11:46:31.377032Z"
    }
   },
   "id": "2af5061a108ac6ee"
  },
  {
   "cell_type": "code",
   "execution_count": null,
   "outputs": [],
   "source": [
    "for pid in all_predicates:\n",
    "    _, pid_to_label_map = get_value_from_pid(pid, pid_to_label_map)"
   ],
   "metadata": {
    "collapsed": false,
    "is_executing": true,
    "ExecuteTime": {
     "start_time": "2025-04-08T11:46:34.004079Z"
    }
   },
   "id": "9f2705b06cb310b3"
  },
  {
   "cell_type": "code",
   "execution_count": null,
   "outputs": [],
   "source": [
    "pid_to_label_map"
   ],
   "metadata": {
    "collapsed": false,
    "is_executing": true
   },
   "id": "f42b98c0d73a0b8f"
  },
  {
   "cell_type": "code",
   "execution_count": null,
   "outputs": [],
   "source": [],
   "metadata": {
    "collapsed": false
   },
   "id": "e6571a501465020c"
  }
 ],
 "metadata": {
  "kernelspec": {
   "display_name": "Python 3",
   "language": "python",
   "name": "python3"
  },
  "language_info": {
   "codemirror_mode": {
    "name": "ipython",
    "version": 2
   },
   "file_extension": ".py",
   "mimetype": "text/x-python",
   "name": "python",
   "nbconvert_exporter": "python",
   "pygments_lexer": "ipython2",
   "version": "2.7.6"
  }
 },
 "nbformat": 4,
 "nbformat_minor": 5
}
