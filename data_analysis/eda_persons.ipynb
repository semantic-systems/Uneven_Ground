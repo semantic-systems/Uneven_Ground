{
 "cells": [
  {
   "cell_type": "code",
   "execution_count": 211,
   "metadata": {
    "ExecuteTime": {
     "end_time": "2025-07-24T11:33:53.710814Z",
     "start_time": "2025-07-24T11:33:52.126860Z"
    }
   },
   "outputs": [
    {
     "name": "stdout",
     "output_type": "stream",
     "text": [
      "Requirement already satisfied: numpy in /Users/cedricmoller/miniconda3/envs/iswc_paper/lib/python3.9/site-packages (2.0.2)\r\n"
     ]
    }
   ],
   "source": [
    "import pandas as pd\n",
    "import os\n",
    "import json\n",
    "\n",
    "pid_labels = json.load(open(os.path.join(\"..\", \"data\", \"pid_labels_persons.json\")))\n",
    "reference_labels = json.load(open(os.path.join(\"..\", \"data\", \"pid_labels.json\")))\n",
    "pid_labels = {**pid_labels, **reference_labels}\n",
    "pid_labels[\"P887\"] = \"based on heuristic\"\n",
    "pid_labels = {key: f\"{value} ({key})\" for key, value in pid_labels.items()}\n",
    "\n",
    "\n",
    "filter_list = {key for key, label in pid_labels.items() if \"ID\" in label or \"ISNI\" in label or \"category\" in label.lower()}\n",
    "\n",
    "df_pid_counter = pd.read_pickle(os.path.join(\"..\", \"data\", \"person_statements\", \"pid_counter.pkl\"))\n",
    "df_claim_counter = pd.read_pickle(os.path.join(\"..\", \"data\", \"person_statements\",\"claim_counter.pkl\"))\n",
    "df_claim_with_ref_counter = pd.read_pickle(os.path.join(\"..\", \"data\", \"person_statements\",\"claim_with_ref_counter.pkl\"))\n",
    "df_num_refs = pd.read_pickle(os.path.join(\"..\", \"data\", \"person_statements\",\"num_refs.pkl\"))\n",
    "df_num_refs_detailed = pd.read_pickle(os.path.join(\"..\", \"data\", \"person_statements\",\"num_refs_detailed.pkl\"))\n",
    "df_num_refs_with_url_detailed = pd.read_pickle(os.path.join(\"..\", \"data\", \"person_statements\",\"num_refs_with_url_detailed.pkl\"))\n",
    "df_num_refs_per_pid = pd.read_pickle(os.path.join(\"..\", \"data\", \"person_statements\",\"num_refs_per_pid.pkl\"))\n",
    "\n",
    "def remove_wrong_decades(df):\n",
    "    try:\n",
    "        return df[df['decade'].str.extract(r'(\\d{4})').astype(int)[0] <= 2020]\n",
    "    except AttributeError:\n",
    "        return df[df[('decade', None)].str.extract(r'(\\d{4})').astype(int)[0] <= 2020]\n",
    "df_pid_counter = remove_wrong_decades(df_pid_counter)\n",
    "df_claim_counter = remove_wrong_decades(df_claim_counter)\n",
    "df_claim_with_ref_counter = remove_wrong_decades(df_claim_with_ref_counter)\n",
    "df_num_refs = remove_wrong_decades(df_num_refs)\n",
    "df_num_refs_detailed = remove_wrong_decades(df_num_refs_detailed)\n",
    "df_num_refs_with_url_detailed = remove_wrong_decades(df_num_refs_with_url_detailed)\n",
    "df_num_refs_per_pid = remove_wrong_decades(df_num_refs_per_pid)\n"
   ]
  },
  {
   "cell_type": "code",
   "execution_count": 212,
   "metadata": {
    "collapsed": false,
    "jupyter": {
     "outputs_hidden": false
    },
    "ExecuteTime": {
     "end_time": "2025-07-24T11:33:54.630906Z",
     "start_time": "2025-07-24T11:33:53.724212Z"
    }
   },
   "outputs": [
    {
     "name": "stderr",
     "output_type": "stream",
     "text": [
      "/var/folders/l7/zj7563zj4nv2znvkzcllpvvr0000gn/T/ipykernel_81765/3901491127.py:13: FutureWarning: DataFrame.groupby with axis=1 is deprecated. Do `frame.T.groupby(...)` without axis instead.\n",
      "  result = filtered.groupby(axis=1, level=0).sum()\n",
      "/var/folders/l7/zj7563zj4nv2znvkzcllpvvr0000gn/T/ipykernel_81765/3901491127.py:29: FutureWarning: DataFrame.groupby with axis=1 is deprecated. Do `frame.T.groupby(...)` without axis instead.\n",
      "  most_popular_ref_pids = df_num_refs_per_pid.groupby(level=1, axis=1).sum()\n"
     ]
    },
    {
     "name": "stdout",
     "output_type": "stream",
     "text": [
      "Most popular PIDs:  ['sex or gender (P21)', 'instance of (P31)', 'date of birth (P569)', 'country of citizenship (P27)', 'occupation (P106)', 'given name (P735)', 'place of birth (P19)', 'family name (P734)', 'languages spoken, written or signed (P1412)', 'sport (P641)', 'educated at (P69)', 'image (P18)', 'date of death (P570)', 'member of sports team (P54)', 'name in native language (P1559)', 'position played on team / speciality (P413)', 'position held (P39)', 'employer (P108)', 'award received (P166)', 'member of political party (P102)', 'place of death (P20)', 'height (P2048)', 'participant in (P1344)', 'native language (P103)', 'work period (start) (P2031)', 'country for sport (P1532)', 'X (Twitter) username (P2002)', 'official website (P856)', 'mass (P2067)', 'Instagram username (P2003)', 'field of work (P101)', 'National Library of Poland Descriptor (P7293)', 'name in kana (P1814)', 'social media followers (P8687)', 'member of (P463)', 'instrument (P1303)', 'religion or worldview (P140)', 'birth name (P1477)', 'work location (P937)', 'Facebook username (P2013)', 'copyright status as a creator (P7763)', 'residence (P551)', 'Europeana entity (P7704)', 'spouse (P26)', 'candidacy in election (P3602)', 'genre (P136)', 'father (P22)', 'on focus list of Wikimedia project (P5008)', 'writing language (P6886)', 'academic degree (P512)']\n",
      "Most popular PIDs with more than one ref:  ['e-Rad researcher number (P9776)', 'affiliation string (P6424)', 'Tumblr username (P3943)', 'copyright representative (P6275)', 'date of disappearance (P746)', 'significant event (P793)', 'date of death (P570)', 'Swedish Royal Theater Archive (P7574)', 'sexual orientation (P91)', 'X (Twitter) username (P2002)', 'doctoral advisor (P184)', 'killed by (P157)', 'candidacy in election (P3602)', 'date of birth (P569)', 'academic appointment (P8413)', 'doctoral student (P185)', 'lifestyle (P1576)', 'affiliation (P1416)', 'medical condition (P1050)', 'position held (P39)', 'contributed to creative work (P3919)', 'Threads username (P11892)', 'unmarried partner (P451)', 'ethnic group (P172)', 'political ideology (P1142)', 'has works in the collection (P6379)', 'sex or gender (P21)', 'title of chess person (P2962)', 'country for sport (P1532)', 'religion or worldview (P140)', 'number of children (P1971)', 'blood type (P1853)', 'convicted of (P1399)', 'has written for (P6872)', 'subject has role (P2868)', 'significant person (P3342)', 'personal pronoun (P6553)', 'NIP (P11429)', 'spouse (P26)', 'mass (P2067)', 'archives at (P485)', 'Wikimedia username (P4174)', 'email address (P968)', 'assessment (P5021)', 'place of detention (P2632)', 'height (P2048)', 'member of political party (P102)', 'Instagram username (P2003)', 'religious order (P611)', 'floruit (P1317)']\n",
      "Most popular reference PIDs:  ['reference URL (P854)', 'Wikimedia import URL (P4656)', 'stated in (P248)', 'inferred from (P3452)', 'retrieved (P813)', 'based on heuristic (P887)', 'imported from Wikimedia project (P143)']\n"
     ]
    }
   ],
   "source": [
    "\n",
    "num_elements_to_consider = 50\n",
    "p_cols = df_pid_counter.columns[df_pid_counter.columns.str.startswith('P')]\n",
    "most_popular_pids = df_pid_counter[p_cols].sum(axis=0)\n",
    "most_popular_pids = most_popular_pids[most_popular_pids.index.isin(pid_labels)]\n",
    "most_popular_pids = most_popular_pids[~most_popular_pids.index.isin(filter_list)]\n",
    "most_popular_pids_filter=  most_popular_pids.nlargest(250).index.tolist()\n",
    "most_popular_pids = most_popular_pids.nlargest(num_elements_to_consider).index.tolist()\n",
    "\n",
    "\n",
    "# Step 1: Select columns where COUNT > 1 (second level of column MultiIndex)\n",
    "filtered = df_num_refs_detailed.loc[:, df_num_refs_detailed.columns.get_level_values(1) > 1]\n",
    "# Step 2: Sum across rows (axis=0) for each PID — group by first level of column MultiIndex\n",
    "result = filtered.groupby(axis=1, level=0).sum()\n",
    "\n",
    "df_claim_counter_summed = df_claim_counter.loc[:, df_claim_counter.columns.str.startswith('P')]\n",
    "df_claim_counter_summed = df_claim_counter_summed.sum()\n",
    "p_cols = result.columns[result.columns.str.startswith('P')]\n",
    "summed  = result[p_cols].sum(axis=0)\n",
    "for pid in summed.index:\n",
    "    if not pid.startswith(\"P\"):\n",
    "        continue\n",
    "    if pid in df_claim_counter_summed.index:\n",
    "        summed[pid] = summed[pid] / df_claim_counter_summed.loc[pid]\n",
    "\n",
    "most_popular_pids_with_more_than_one_ref = summed\n",
    "most_popular_pids_with_more_than_one_ref = most_popular_pids_with_more_than_one_ref[most_popular_pids_with_more_than_one_ref.index.isin(pid_labels)]\n",
    "most_popular_pids_with_more_than_one_ref = most_popular_pids_with_more_than_one_ref[most_popular_pids_with_more_than_one_ref.index.isin(most_popular_pids_filter)]\n",
    "most_popular_pids_with_more_than_one_ref = most_popular_pids_with_more_than_one_ref.nlargest(num_elements_to_consider).index.tolist()\n",
    "most_popular_ref_pids = [\"P854\", \"P4656\", \"P248\", \"P3452\", \"P813\", \"P887\", \"P143\"]\n",
    "print(\"Most popular PIDs: \", [pid_labels.get(pid) for pid in most_popular_pids])\n",
    "print(\"Most popular PIDs with more than one ref: \", [pid_labels.get(pid) for pid in most_popular_pids_with_more_than_one_ref])\n",
    "print(\"Most popular reference PIDs: \", [pid_labels.get(pid, pid) for pid in most_popular_ref_pids])\n"
   ]
  },
  {
   "cell_type": "code",
   "execution_count": 213,
   "metadata": {
    "collapsed": false,
    "jupyter": {
     "outputs_hidden": false
    },
    "ExecuteTime": {
     "end_time": "2025-07-24T11:33:54.650022Z",
     "start_time": "2025-07-24T11:33:54.630654Z"
    }
   },
   "outputs": [],
   "source": [
    "\n",
    "\n",
    "from IPython.core.display import Markdown\n",
    "\n",
    "\n",
    "def calculate_all_stats(df_pid_counter, df_claim_counter , df_claim_with_ref_counter, df_num_refs, df_num_refs_per_pid, group_by: list):\n",
    "    # Accumulate over genders\n",
    "    df_pid_counter = df_pid_counter.groupby(group_by).sum()\n",
    "    df_claim_counter = df_claim_counter.groupby(group_by).sum()\n",
    "    df_claim_with_ref_counter = df_claim_with_ref_counter.groupby(group_by).sum()\n",
    "    df_num_refs = df_num_refs.groupby(group_by).sum()\n",
    "    df_num_refs_per_pid = df_num_refs_per_pid.groupby([(x, None) for x in group_by]).sum()\n",
    "\n",
    "    p_cols = df_pid_counter.columns[df_pid_counter.columns.str.startswith('P')]\n",
    "    df_pid_counter[p_cols] = df_pid_counter[p_cols].div(df_pid_counter['person_counter'], axis=0)\n",
    "\n",
    "    def create_pid_stats(filter_pids):\n",
    "        # Filter all PID columns out that are not in the most_popular_pids\n",
    "        df_pid_counter_most_pop = df_pid_counter.loc[:, df_pid_counter.columns.isin(filter_pids)]\n",
    "        df_pid_counter_most_pop.fillna(0)\n",
    "        df_pid_counter_most_pop = df_pid_counter_most_pop[df_pid_counter_most_pop.iloc[0].sort_values(ascending=False).index]\n",
    "        df_pid_counter_most_pop = df_pid_counter_most_pop.rename(columns=pid_labels)\n",
    "        return df_pid_counter_most_pop\n",
    "\n",
    "    def create_ref_stats(filter_pids, normalize_by):\n",
    "        normalized_num_refs_per_pid = df_num_refs_per_pid.copy()\n",
    "        filter_columns = set()\n",
    "        for pid in df_num_refs_per_pid.columns:\n",
    "            if not pid[0].startswith(\"P\"):\n",
    "                continue\n",
    "            if pid[0] in normalize_by.columns:\n",
    "                if any(normalize_by[pid[0]] > 100):\n",
    "                    filter_columns.add(pid[0])\n",
    "                normalized_num_refs_per_pid[pid] = normalized_num_refs_per_pid[pid].div(normalize_by[pid[0]], axis=0)\n",
    "\n",
    "        normalized_num_refs_per_pid = normalized_num_refs_per_pid.loc[:, normalized_num_refs_per_pid.columns.get_level_values(0).isin(filter_columns)]\n",
    "\n",
    "        # normalized_num_refs_per_pid = normalized_num_refs_per_pid.fillna(0)\n",
    "        normalized_num_refs_per_pid = normalized_num_refs_per_pid.loc[:, normalized_num_refs_per_pid.columns.get_level_values(0).isin(filter_pids)]\n",
    "        normalized_num_refs_per_pid = normalized_num_refs_per_pid.groupby(level=1, axis=1).mean()\n",
    "        normalized_num_refs_per_pid = normalized_num_refs_per_pid.loc[:, normalized_num_refs_per_pid.columns.isin(most_popular_ref_pids)]\n",
    "        normalized_num_refs_per_pid = normalized_num_refs_per_pid[normalized_num_refs_per_pid.iloc[0].sort_values(ascending=False).index]\n",
    "        normalized_num_refs_per_pid = normalized_num_refs_per_pid.rename(columns=pid_labels)\n",
    "        return normalized_num_refs_per_pid\n",
    "\n",
    "    display(Markdown(f\"# Group by {group_by}\"))\n",
    "    display(Markdown(\"## Calculate percentage of persons with specific relation having references (there might be multiple claims per person)\"))\n",
    "    copy_df_num_refs = df_claim_with_ref_counter.copy()\n",
    "    p_cols = copy_df_num_refs.columns[copy_df_num_refs.columns.str.startswith('P')]\n",
    "    copy_df_num_refs[p_cols] = copy_df_num_refs[p_cols].div(df_num_refs['person_counter'], axis=0)\n",
    "    copy_df_num_refs = copy_df_num_refs.rename(columns=pid_labels)\n",
    "    display(copy_df_num_refs)\n",
    "\n",
    "    display(Markdown(\"## Calculate percentage of claims with specific relation having references\"))\n",
    "    copy_df_num_refs = df_claim_with_ref_counter.copy()\n",
    "    for pid in copy_df_num_refs.columns:\n",
    "            if not pid.startswith(\"P\"):\n",
    "                continue\n",
    "            if pid in df_claim_counter.columns:\n",
    "                copy_df_num_refs[pid] = copy_df_num_refs[pid].div(df_claim_counter[pid], axis=0)\n",
    "    copy_df_num_refs = copy_df_num_refs.rename(columns=pid_labels)\n",
    "    display(copy_df_num_refs)\n",
    "\n",
    "    display(Markdown(\"## Calculate percentage of claims having references\"))\n",
    "    copy_df_claim_with_ref_counter = df_claim_with_ref_counter.copy()\n",
    "    p_columns = [col for col in copy_df_claim_with_ref_counter.columns if col.startswith('P')]\n",
    "    # Sum those columns row-wise\n",
    "    copy_df_claim_with_ref_counter['P_sum'] = copy_df_claim_with_ref_counter[p_columns].sum(axis=1)\n",
    "    # Drop the original 'P' columns\n",
    "    df_claim_with_ref_summed = copy_df_claim_with_ref_counter.drop(columns=p_columns)\n",
    "\n",
    "    copy_df_claim_counter = df_claim_counter.copy()\n",
    "    p_columns = [col for col in copy_df_claim_counter.columns if col.startswith('P')]\n",
    "    # Sum those columns row-wise\n",
    "    copy_df_claim_counter['P_sum'] = copy_df_claim_counter[p_columns].sum(axis=1)\n",
    "    # Drop the original 'P' columns\n",
    "    df_claim_summed = copy_df_claim_counter.drop(columns=p_columns)\n",
    "    df_normalized_claim_with_ref = df_claim_with_ref_summed.copy()\n",
    "    for pid in df_claim_with_ref_summed.columns:\n",
    "        if not pid.startswith(\"P\"):\n",
    "            continue\n",
    "        if pid in df_claim_summed.columns:\n",
    "            df_normalized_claim_with_ref[pid] = df_claim_with_ref_summed[pid].div(df_claim_summed[pid], axis=0)\n",
    "\n",
    "    display(df_normalized_claim_with_ref)\n",
    "\n",
    "    display(Markdown(\"## Calculate percentage of claims having a specific reference type\"))\n",
    "    copy_df_claim_with_ref_counter = df_num_refs_per_pid.copy()\n",
    "    df_summed = copy_df_claim_with_ref_counter.groupby(level=1, axis=1).sum()\n",
    "    for pid in copy_df_num_refs.columns:\n",
    "            if not pid.startswith(\"P\"):\n",
    "                continue\n",
    "            if pid in df_claim_counter.columns:\n",
    "                copy_df_num_refs[pid] = copy_df_num_refs[pid].div(df_claim_counter[pid], axis=0)\n",
    "    df_summed = df_summed.loc[:, df_summed.columns.isin(most_popular_ref_pids)]\n",
    "    # Normalize by df_claim_summed P_sum value for each corresponding row\n",
    "    for pid in df_summed.columns:\n",
    "        if not pid.startswith(\"P\"):\n",
    "            continue\n",
    "        df_summed[pid] = df_summed[pid].div(copy_df_claim_counter[\"P_sum\"], axis=0)\n",
    "    df_summed = df_summed.rename(columns=pid_labels)\n",
    "    display(df_summed)\n",
    "\n",
    "    display(Markdown(f\"## Calculate the average occurrence of each relation\"))\n",
    "    display(Markdown(\"### For each decade and the top-50 most popular relations (if multiple claims occur, it is still counted as one - replacing with df_claim_counter would consider this)\"))\n",
    "    df_top_pop = create_pid_stats(most_popular_pids)\n",
    "    display(df_top_pop)\n",
    "    if len(group_by) > 1:\n",
    "        display(Markdown(\"### Average over all decades for the top-50 most popular relations\"))\n",
    "        df_top_pop_averaged = df_top_pop.groupby([\"income_class\"]).mean()\n",
    "        display(df_top_pop_averaged)\n",
    "    display(Markdown(\"### For each decade and the top-50 relations that are equipped with the most references (not just counting the claims with references but the ratio of claims with references to all claims)\"))\n",
    "    df_top_ref_pop = create_pid_stats(most_popular_pids_with_more_than_one_ref)\n",
    "    display(df_top_ref_pop)\n",
    "    if len(group_by) > 1:\n",
    "        display(Markdown(\"### Average over all decades for the top-50 relations that are equipped with the most references\"))\n",
    "        df_top_ref_pop_averaged = df_top_ref_pop.groupby([\"income_class\"]).mean()\n",
    "        display(df_top_ref_pop_averaged)\n",
    "    display(Markdown(\"## Calculate average use of references\"))\n",
    "    display(Markdown(\"### For each decade and the top-50 most popular relations - normalized by claims\"))\n",
    "    df_ref_stats_top_pop_claim = create_ref_stats(most_popular_pids, df_claim_counter)\n",
    "    display(df_ref_stats_top_pop_claim)\n",
    "    if len(group_by) > 1:\n",
    "        display(Markdown(\"### Average over all decades for the top-50 most popular relations - normalized by claims\"))\n",
    "        df_ref_stats_top_pop_claim_averaged = df_ref_stats_top_pop_claim.groupby(level=0).mean()\n",
    "        display(df_ref_stats_top_pop_claim_averaged)\n",
    "    # display(Markdown(\"### For each decade and the top-50 relations that are equipped with the most references - normalized by claims\"))\n",
    "    # df_ref_stats_top_ref_pop_claim = create_ref_stats(most_popular_pids_with_more_than_one_ref, df_claim_counter)\n",
    "    # display(df_ref_stats_top_ref_pop_claim)\n",
    "    # if len(group_by) > 1:\n",
    "    #     display(Markdown(\"### Average over all decades for the top-50 relations that are equipped with the most references - normalized by claims\"))\n",
    "    #     df_ref_stats_top_ref_pop_claim_averaged = df_ref_stats_top_ref_pop_claim.groupby(level=0).mean()\n",
    "    #     display(df_ref_stats_top_ref_pop_claim_averaged)\n",
    "    display(Markdown(\"### For each decade and the top-50 relations - normalized by claims with references\"))\n",
    "    df_ref_stats_top_pop_claim_ref = create_ref_stats(most_popular_pids, df_claim_with_ref_counter)\n",
    "    display(df_ref_stats_top_pop_claim_ref)\n",
    "    if len(group_by) > 1:\n",
    "        display(Markdown(\"### Average over all decades for the top-50 relations - normalized by claims with references\"))\n",
    "        df_ref_stats_top_pop_claim_ref_averaged = df_ref_stats_top_pop_claim_ref.groupby(level=0).mean()\n",
    "        display(df_ref_stats_top_pop_claim_ref_averaged)\n",
    "    # display(Markdown(\"### For each decade and the top-50 relations that are equipped with the most references - normalized by claims with references\"))\n",
    "    # df_ref_stats_top_ref_pop_claim_ref = create_ref_stats(most_popular_pids_with_more_than_one_ref, df_claim_with_ref_counter)\n",
    "    # display(df_ref_stats_top_ref_pop_claim_ref)\n",
    "    # if len(group_by) > 1:\n",
    "    #     display(Markdown(\"### Average over all decades for the top-50 relations that are equipped with the most references - normalized by claims with references\"))\n",
    "    #     df_ref_stats_top_ref_pop_claim_ref_averaged = df_ref_stats_top_ref_pop_claim_ref.groupby(level=0).mean()\n",
    "    #     display(df_ref_stats_top_ref_pop_claim_ref_averaged)\n",
    "\n",
    "\n",
    "\n"
   ]
  },
  {
   "cell_type": "code",
   "execution_count": 214,
   "metadata": {
    "collapsed": false,
    "jupyter": {
     "outputs_hidden": false
    }
   },
   "outputs": [
    {
     "name": "stderr",
     "output_type": "stream",
     "text": [
      "/var/folders/l7/zj7563zj4nv2znvkzcllpvvr0000gn/T/ipykernel_81765/2491103386.py:38: FutureWarning: DataFrame.groupby with axis=1 is deprecated. Do `frame.T.groupby(...)` without axis instead.\n",
      "  normalized_num_refs_per_pid = normalized_num_refs_per_pid.groupby(level=1, axis=1).mean()\n"
     ]
    },
    {
     "data": {
      "text/plain": "                     imported from Wikimedia project (P143)  retrieved (P813)  \\\n(income_class, nan)                                                             \nhigh_income                                        0.497937          0.355280   \nlow_income                                         0.481928          0.279426   \nlower-middle_income                                0.521353          0.263023   \nupper-middle_income                                0.537009          0.274637   \n\n                     stated in (P248)  reference URL (P854)  \\\n(income_class, nan)                                           \nhigh_income                  0.285389              0.152233   \nlow_income                   0.218016              0.195093   \nlower-middle_income          0.191640              0.180917   \nupper-middle_income          0.235423              0.152988   \n\n                     Wikimedia import URL (P4656)  based on heuristic (P887)  \\\n(income_class, nan)                                                            \nhigh_income                              0.106220                   0.094414   \nlow_income                               0.150689                   0.102924   \nlower-middle_income                      0.163460                   0.098937   \nupper-middle_income                      0.162519                   0.110497   \n\n                     inferred from (P3452)  \n(income_class, nan)                         \nhigh_income                       0.022598  \nlow_income                        0.020605  \nlower-middle_income               0.014866  \nupper-middle_income               0.016034  ",
      "text/html": "<div>\n<style scoped>\n    .dataframe tbody tr th:only-of-type {\n        vertical-align: middle;\n    }\n\n    .dataframe tbody tr th {\n        vertical-align: top;\n    }\n\n    .dataframe thead th {\n        text-align: right;\n    }\n</style>\n<table border=\"1\" class=\"dataframe\">\n  <thead>\n    <tr style=\"text-align: right;\">\n      <th></th>\n      <th>imported from Wikimedia project (P143)</th>\n      <th>retrieved (P813)</th>\n      <th>stated in (P248)</th>\n      <th>reference URL (P854)</th>\n      <th>Wikimedia import URL (P4656)</th>\n      <th>based on heuristic (P887)</th>\n      <th>inferred from (P3452)</th>\n    </tr>\n    <tr>\n      <th>(income_class, nan)</th>\n      <th></th>\n      <th></th>\n      <th></th>\n      <th></th>\n      <th></th>\n      <th></th>\n      <th></th>\n    </tr>\n  </thead>\n  <tbody>\n    <tr>\n      <th>high_income</th>\n      <td>0.497937</td>\n      <td>0.355280</td>\n      <td>0.285389</td>\n      <td>0.152233</td>\n      <td>0.106220</td>\n      <td>0.094414</td>\n      <td>0.022598</td>\n    </tr>\n    <tr>\n      <th>low_income</th>\n      <td>0.481928</td>\n      <td>0.279426</td>\n      <td>0.218016</td>\n      <td>0.195093</td>\n      <td>0.150689</td>\n      <td>0.102924</td>\n      <td>0.020605</td>\n    </tr>\n    <tr>\n      <th>lower-middle_income</th>\n      <td>0.521353</td>\n      <td>0.263023</td>\n      <td>0.191640</td>\n      <td>0.180917</td>\n      <td>0.163460</td>\n      <td>0.098937</td>\n      <td>0.014866</td>\n    </tr>\n    <tr>\n      <th>upper-middle_income</th>\n      <td>0.537009</td>\n      <td>0.274637</td>\n      <td>0.235423</td>\n      <td>0.152988</td>\n      <td>0.162519</td>\n      <td>0.110497</td>\n      <td>0.016034</td>\n    </tr>\n  </tbody>\n</table>\n</div>"
     },
     "metadata": {},
     "output_type": "display_data"
    },
    {
     "data": {
      "text/plain": "<IPython.core.display.Markdown object>",
      "text/markdown": "# Group by ['income_class']"
     },
     "metadata": {},
     "output_type": "display_data"
    },
    {
     "data": {
      "text/plain": "<IPython.core.display.Markdown object>",
      "text/markdown": "## Calculate percentage of persons with specific relation having references (there might be multiple claims per person)"
     },
     "metadata": {},
     "output_type": "display_data"
    },
    {
     "data": {
      "text/plain": "                     person_counter  \\\nincome_class                          \nhigh_income                 1847883   \nlow_income                    21533   \nlower-middle_income          128003   \nupper-middle_income          408665   \n\n                                                                decade  \\\nincome_class                                                             \nhigh_income          1930s1930s1920s1980s1990s1970s1950s1980s1960s1...   \nlow_income           1980s1960s1970s2000s1940s1950s1990s1970s1980s1...   \nlower-middle_income  1940s1960s1930s2000s1970s1980s1980s1940s2000s1...   \nupper-middle_income  2000s1940s1960s1950s1970s1970s1940s1980s1990s1...   \n\n                                                                gender  \\\nincome_class                                                             \nhigh_income          malefemalemalemalemalemalemalefemalemalemalefe...   \nlow_income           malemalemalefemalemalemalemalefemalefemalefema...   \nlower-middle_income  malemalemalemalemalemalefemalefemalefemalemale...   \nupper-middle_income  femalemalemalemalefemalemalefemalemalemalemale...   \n\n                     VIAF cluster ID (P214)  member of political party (P102)  \\\nincome_class                                                                    \nhigh_income                        0.214847                          0.044028   \nlow_income                         0.085311                          0.090652   \nlower-middle_income                0.092771                          0.100037   \nupper-middle_income                0.066404                          0.223366   \n\n                     educated at (P69)  instance of (P31)  \\\nincome_class                                                \nhigh_income                   0.269457           0.469116   \nlow_income                    0.185715           0.432545   \nlower-middle_income           0.234502           0.434857   \nupper-middle_income           0.160151           0.381868   \n\n                     place of birth (P19)  place of death (P20)  \\\nincome_class                                                      \nhigh_income                      0.528624              0.072912   \nlow_income                       0.488924              0.067339   \nlower-middle_income              0.515183              0.071795   \nupper-middle_income              0.545158              0.060113   \n\n                     position held (P39)  ...  \\\nincome_class                              ...   \nhigh_income                     0.221348  ...   \nlow_income                      0.219709  ...   \nlower-middle_income             0.153379  ...   \nupper-middle_income             0.079219  ...   \n\n                     Encyclopedia of China (Third Edition) ID (P10565)  \\\nincome_class                                                             \nhigh_income                                                   0.000000   \nlow_income                                                    0.000000   \nlower-middle_income                                           0.000008   \nupper-middle_income                                           0.000000   \n\n                     member of cabinet (P5054)  \\\nincome_class                                     \nhigh_income                           0.000000   \nlow_income                            0.000000   \nlower-middle_income                   0.000008   \nupper-middle_income                   0.000000   \n\n                     Ministry of Unification politician ID (P11150)  \\\nincome_class                                                          \nhigh_income                                                0.000000   \nlow_income                                                 0.001347   \nlower-middle_income                                        0.000000   \nupper-middle_income                                        0.000000   \n\n                     has goal (P3712)  parent club (P831)  \\\nincome_class                                                \nhigh_income                  0.000000            0.000000   \nlow_income                   0.000046            0.000046   \nlower-middle_income          0.000000            0.000000   \nupper-middle_income          0.000000            0.000000   \n\n                     time played (P9140)  The Counted person ID (P11638)  \\\nincome_class                                                               \nhigh_income                     0.000000                        0.000000   \nlow_income                      0.000046                        0.000046   \nlower-middle_income             0.000000                        0.000000   \nupper-middle_income             0.000000                        0.000000   \n\n                     measured physical quantity (P111)  \\\nincome_class                                             \nhigh_income                                   0.000000   \nlow_income                                    0.000046   \nlower-middle_income                           0.000000   \nupper-middle_income                           0.000000   \n\n                     Netherlands Olympic Committee athlete ID (P10957)  \\\nincome_class                                                             \nhigh_income                                                   0.000000   \nlow_income                                                    0.000046   \nlower-middle_income                                           0.000000   \nupper-middle_income                                           0.000000   \n\n                     IMDb keyword (P11924)  \nincome_class                                \nhigh_income                       0.000000  \nlow_income                        0.000046  \nlower-middle_income               0.000000  \nupper-middle_income               0.000000  \n\n[4 rows x 3246 columns]",
      "text/html": "<div>\n<style scoped>\n    .dataframe tbody tr th:only-of-type {\n        vertical-align: middle;\n    }\n\n    .dataframe tbody tr th {\n        vertical-align: top;\n    }\n\n    .dataframe thead th {\n        text-align: right;\n    }\n</style>\n<table border=\"1\" class=\"dataframe\">\n  <thead>\n    <tr style=\"text-align: right;\">\n      <th></th>\n      <th>person_counter</th>\n      <th>decade</th>\n      <th>gender</th>\n      <th>VIAF cluster ID (P214)</th>\n      <th>member of political party (P102)</th>\n      <th>educated at (P69)</th>\n      <th>instance of (P31)</th>\n      <th>place of birth (P19)</th>\n      <th>place of death (P20)</th>\n      <th>position held (P39)</th>\n      <th>...</th>\n      <th>Encyclopedia of China (Third Edition) ID (P10565)</th>\n      <th>member of cabinet (P5054)</th>\n      <th>Ministry of Unification politician ID (P11150)</th>\n      <th>has goal (P3712)</th>\n      <th>parent club (P831)</th>\n      <th>time played (P9140)</th>\n      <th>The Counted person ID (P11638)</th>\n      <th>measured physical quantity (P111)</th>\n      <th>Netherlands Olympic Committee athlete ID (P10957)</th>\n      <th>IMDb keyword (P11924)</th>\n    </tr>\n    <tr>\n      <th>income_class</th>\n      <th></th>\n      <th></th>\n      <th></th>\n      <th></th>\n      <th></th>\n      <th></th>\n      <th></th>\n      <th></th>\n      <th></th>\n      <th></th>\n      <th></th>\n      <th></th>\n      <th></th>\n      <th></th>\n      <th></th>\n      <th></th>\n      <th></th>\n      <th></th>\n      <th></th>\n      <th></th>\n      <th></th>\n    </tr>\n  </thead>\n  <tbody>\n    <tr>\n      <th>high_income</th>\n      <td>1847883</td>\n      <td>1930s1930s1920s1980s1990s1970s1950s1980s1960s1...</td>\n      <td>malefemalemalemalemalemalemalefemalemalemalefe...</td>\n      <td>0.214847</td>\n      <td>0.044028</td>\n      <td>0.269457</td>\n      <td>0.469116</td>\n      <td>0.528624</td>\n      <td>0.072912</td>\n      <td>0.221348</td>\n      <td>...</td>\n      <td>0.000000</td>\n      <td>0.000000</td>\n      <td>0.000000</td>\n      <td>0.000000</td>\n      <td>0.000000</td>\n      <td>0.000000</td>\n      <td>0.000000</td>\n      <td>0.000000</td>\n      <td>0.000000</td>\n      <td>0.000000</td>\n    </tr>\n    <tr>\n      <th>low_income</th>\n      <td>21533</td>\n      <td>1980s1960s1970s2000s1940s1950s1990s1970s1980s1...</td>\n      <td>malemalemalefemalemalemalemalefemalefemalefema...</td>\n      <td>0.085311</td>\n      <td>0.090652</td>\n      <td>0.185715</td>\n      <td>0.432545</td>\n      <td>0.488924</td>\n      <td>0.067339</td>\n      <td>0.219709</td>\n      <td>...</td>\n      <td>0.000000</td>\n      <td>0.000000</td>\n      <td>0.001347</td>\n      <td>0.000046</td>\n      <td>0.000046</td>\n      <td>0.000046</td>\n      <td>0.000046</td>\n      <td>0.000046</td>\n      <td>0.000046</td>\n      <td>0.000046</td>\n    </tr>\n    <tr>\n      <th>lower-middle_income</th>\n      <td>128003</td>\n      <td>1940s1960s1930s2000s1970s1980s1980s1940s2000s1...</td>\n      <td>malemalemalemalemalemalefemalefemalefemalemale...</td>\n      <td>0.092771</td>\n      <td>0.100037</td>\n      <td>0.234502</td>\n      <td>0.434857</td>\n      <td>0.515183</td>\n      <td>0.071795</td>\n      <td>0.153379</td>\n      <td>...</td>\n      <td>0.000008</td>\n      <td>0.000008</td>\n      <td>0.000000</td>\n      <td>0.000000</td>\n      <td>0.000000</td>\n      <td>0.000000</td>\n      <td>0.000000</td>\n      <td>0.000000</td>\n      <td>0.000000</td>\n      <td>0.000000</td>\n    </tr>\n    <tr>\n      <th>upper-middle_income</th>\n      <td>408665</td>\n      <td>2000s1940s1960s1950s1970s1970s1940s1980s1990s1...</td>\n      <td>femalemalemalemalefemalemalefemalemalemalemale...</td>\n      <td>0.066404</td>\n      <td>0.223366</td>\n      <td>0.160151</td>\n      <td>0.381868</td>\n      <td>0.545158</td>\n      <td>0.060113</td>\n      <td>0.079219</td>\n      <td>...</td>\n      <td>0.000000</td>\n      <td>0.000000</td>\n      <td>0.000000</td>\n      <td>0.000000</td>\n      <td>0.000000</td>\n      <td>0.000000</td>\n      <td>0.000000</td>\n      <td>0.000000</td>\n      <td>0.000000</td>\n      <td>0.000000</td>\n    </tr>\n  </tbody>\n</table>\n<p>4 rows × 3246 columns</p>\n</div>"
     },
     "metadata": {},
     "output_type": "display_data"
    },
    {
     "data": {
      "text/plain": "<IPython.core.display.Markdown object>",
      "text/markdown": "## Calculate percentage of claims with specific relation having references"
     },
     "metadata": {},
     "output_type": "display_data"
    },
    {
     "data": {
      "text/plain": "                     person_counter  \\\nincome_class                          \nhigh_income                 1847883   \nlow_income                    21533   \nlower-middle_income          128003   \nupper-middle_income          408665   \n\n                                                                decade  \\\nincome_class                                                             \nhigh_income          1930s1930s1920s1980s1990s1970s1950s1980s1960s1...   \nlow_income           1980s1960s1970s2000s1940s1950s1990s1970s1980s1...   \nlower-middle_income  1940s1960s1930s2000s1970s1980s1980s1940s2000s1...   \nupper-middle_income  2000s1940s1960s1950s1970s1970s1940s1980s1990s1...   \n\n                                                                gender  \\\nincome_class                                                             \nhigh_income          malefemalemalemalemalemalemalefemalemalemalefe...   \nlow_income           malemalemalefemalemalemalemalefemalefemalefema...   \nlower-middle_income  malemalemalemalemalemalefemalefemalefemalemale...   \nupper-middle_income  femalemalemalemalefemalemalefemalemalemalemale...   \n\n                     VIAF cluster ID (P214)  member of political party (P102)  \\\nincome_class                                                                    \nhigh_income                        0.555894                          0.513562   \nlow_income                         0.522172                          0.699140   \nlower-middle_income                0.521085                          0.640154   \nupper-middle_income                0.490156                          0.886655   \n\n                     educated at (P69)  instance of (P31)  \\\nincome_class                                                \nhigh_income                   0.571728           0.468990   \nlow_income                    0.511446           0.432345   \nlower-middle_income           0.546151           0.434752   \nupper-middle_income           0.568238           0.381806   \n\n                     place of birth (P19)  place of death (P20)  \\\nincome_class                                                      \nhigh_income                      0.774240              0.746814   \nlow_income                       0.731213              0.682353   \nlower-middle_income              0.759656              0.666763   \nupper-middle_income              0.787372              0.670524   \n\n                     position held (P39)  ...  \\\nincome_class                              ...   \nhigh_income                     0.749961  ...   \nlow_income                      0.660201  ...   \nlower-middle_income             0.483179  ...   \nupper-middle_income             0.510639  ...   \n\n                     Encyclopedia of China (Third Edition) ID (P10565)  \\\nincome_class                                                             \nhigh_income                                                   0.000000   \nlow_income                                                    0.000000   \nlower-middle_income                                           0.003831   \nupper-middle_income                                           0.000000   \n\n                     member of cabinet (P5054)  \\\nincome_class                                     \nhigh_income                                0.0   \nlow_income                                 NaN   \nlower-middle_income                        0.5   \nupper-middle_income                        0.0   \n\n                     Ministry of Unification politician ID (P11150)  \\\nincome_class                                                          \nhigh_income                                                     NaN   \nlow_income                                                 0.508772   \nlower-middle_income                                             NaN   \nupper-middle_income                                             NaN   \n\n                     has goal (P3712)  parent club (P831)  \\\nincome_class                                                \nhigh_income                       NaN                 0.0   \nlow_income                        1.0                 0.5   \nlower-middle_income               NaN                 0.0   \nupper-middle_income               NaN                 0.0   \n\n                     time played (P9140)  The Counted person ID (P11638)  \\\nincome_class                                                               \nhigh_income                          NaN                             0.0   \nlow_income                           1.0                             1.0   \nlower-middle_income                  NaN                             NaN   \nupper-middle_income                  NaN                             NaN   \n\n                     measured physical quantity (P111)  \\\nincome_class                                             \nhigh_income                                        NaN   \nlow_income                                         1.0   \nlower-middle_income                                NaN   \nupper-middle_income                                NaN   \n\n                     Netherlands Olympic Committee athlete ID (P10957)  \\\nincome_class                                                             \nhigh_income                                                        NaN   \nlow_income                                                         1.0   \nlower-middle_income                                                NaN   \nupper-middle_income                                                NaN   \n\n                     IMDb keyword (P11924)  \nincome_class                                \nhigh_income                            0.0  \nlow_income                             1.0  \nlower-middle_income                    NaN  \nupper-middle_income                    NaN  \n\n[4 rows x 3246 columns]",
      "text/html": "<div>\n<style scoped>\n    .dataframe tbody tr th:only-of-type {\n        vertical-align: middle;\n    }\n\n    .dataframe tbody tr th {\n        vertical-align: top;\n    }\n\n    .dataframe thead th {\n        text-align: right;\n    }\n</style>\n<table border=\"1\" class=\"dataframe\">\n  <thead>\n    <tr style=\"text-align: right;\">\n      <th></th>\n      <th>person_counter</th>\n      <th>decade</th>\n      <th>gender</th>\n      <th>VIAF cluster ID (P214)</th>\n      <th>member of political party (P102)</th>\n      <th>educated at (P69)</th>\n      <th>instance of (P31)</th>\n      <th>place of birth (P19)</th>\n      <th>place of death (P20)</th>\n      <th>position held (P39)</th>\n      <th>...</th>\n      <th>Encyclopedia of China (Third Edition) ID (P10565)</th>\n      <th>member of cabinet (P5054)</th>\n      <th>Ministry of Unification politician ID (P11150)</th>\n      <th>has goal (P3712)</th>\n      <th>parent club (P831)</th>\n      <th>time played (P9140)</th>\n      <th>The Counted person ID (P11638)</th>\n      <th>measured physical quantity (P111)</th>\n      <th>Netherlands Olympic Committee athlete ID (P10957)</th>\n      <th>IMDb keyword (P11924)</th>\n    </tr>\n    <tr>\n      <th>income_class</th>\n      <th></th>\n      <th></th>\n      <th></th>\n      <th></th>\n      <th></th>\n      <th></th>\n      <th></th>\n      <th></th>\n      <th></th>\n      <th></th>\n      <th></th>\n      <th></th>\n      <th></th>\n      <th></th>\n      <th></th>\n      <th></th>\n      <th></th>\n      <th></th>\n      <th></th>\n      <th></th>\n      <th></th>\n    </tr>\n  </thead>\n  <tbody>\n    <tr>\n      <th>high_income</th>\n      <td>1847883</td>\n      <td>1930s1930s1920s1980s1990s1970s1950s1980s1960s1...</td>\n      <td>malefemalemalemalemalemalemalefemalemalemalefe...</td>\n      <td>0.555894</td>\n      <td>0.513562</td>\n      <td>0.571728</td>\n      <td>0.468990</td>\n      <td>0.774240</td>\n      <td>0.746814</td>\n      <td>0.749961</td>\n      <td>...</td>\n      <td>0.000000</td>\n      <td>0.0</td>\n      <td>NaN</td>\n      <td>NaN</td>\n      <td>0.0</td>\n      <td>NaN</td>\n      <td>0.0</td>\n      <td>NaN</td>\n      <td>NaN</td>\n      <td>0.0</td>\n    </tr>\n    <tr>\n      <th>low_income</th>\n      <td>21533</td>\n      <td>1980s1960s1970s2000s1940s1950s1990s1970s1980s1...</td>\n      <td>malemalemalefemalemalemalemalefemalefemalefema...</td>\n      <td>0.522172</td>\n      <td>0.699140</td>\n      <td>0.511446</td>\n      <td>0.432345</td>\n      <td>0.731213</td>\n      <td>0.682353</td>\n      <td>0.660201</td>\n      <td>...</td>\n      <td>0.000000</td>\n      <td>NaN</td>\n      <td>0.508772</td>\n      <td>1.0</td>\n      <td>0.5</td>\n      <td>1.0</td>\n      <td>1.0</td>\n      <td>1.0</td>\n      <td>1.0</td>\n      <td>1.0</td>\n    </tr>\n    <tr>\n      <th>lower-middle_income</th>\n      <td>128003</td>\n      <td>1940s1960s1930s2000s1970s1980s1980s1940s2000s1...</td>\n      <td>malemalemalemalemalemalefemalefemalefemalemale...</td>\n      <td>0.521085</td>\n      <td>0.640154</td>\n      <td>0.546151</td>\n      <td>0.434752</td>\n      <td>0.759656</td>\n      <td>0.666763</td>\n      <td>0.483179</td>\n      <td>...</td>\n      <td>0.003831</td>\n      <td>0.5</td>\n      <td>NaN</td>\n      <td>NaN</td>\n      <td>0.0</td>\n      <td>NaN</td>\n      <td>NaN</td>\n      <td>NaN</td>\n      <td>NaN</td>\n      <td>NaN</td>\n    </tr>\n    <tr>\n      <th>upper-middle_income</th>\n      <td>408665</td>\n      <td>2000s1940s1960s1950s1970s1970s1940s1980s1990s1...</td>\n      <td>femalemalemalemalefemalemalefemalemalemalemale...</td>\n      <td>0.490156</td>\n      <td>0.886655</td>\n      <td>0.568238</td>\n      <td>0.381806</td>\n      <td>0.787372</td>\n      <td>0.670524</td>\n      <td>0.510639</td>\n      <td>...</td>\n      <td>0.000000</td>\n      <td>0.0</td>\n      <td>NaN</td>\n      <td>NaN</td>\n      <td>0.0</td>\n      <td>NaN</td>\n      <td>NaN</td>\n      <td>NaN</td>\n      <td>NaN</td>\n      <td>NaN</td>\n    </tr>\n  </tbody>\n</table>\n<p>4 rows × 3246 columns</p>\n</div>"
     },
     "metadata": {},
     "output_type": "display_data"
    },
    {
     "data": {
      "text/plain": "<IPython.core.display.Markdown object>",
      "text/markdown": "## Calculate percentage of claims having references"
     },
     "metadata": {},
     "output_type": "display_data"
    },
    {
     "data": {
      "text/plain": "                     person_counter  \\\nincome_class                          \nhigh_income                 1847883   \nlow_income                    21533   \nlower-middle_income          128003   \nupper-middle_income          408665   \n\n                                                                decade  \\\nincome_class                                                             \nhigh_income          1930s1930s1920s1980s1990s1970s1950s1980s1960s1...   \nlow_income           1980s1960s1970s2000s1940s1950s1990s1970s1980s1...   \nlower-middle_income  1940s1960s1930s2000s1970s1980s1980s1940s2000s1...   \nupper-middle_income  2000s1940s1960s1950s1970s1970s1940s1980s1990s1...   \n\n                                                                gender  \\\nincome_class                                                             \nhigh_income          malefemalemalemalemalemalemalefemalemalemalefe...   \nlow_income           malemalemalefemalemalemalemalefemalefemalefema...   \nlower-middle_income  malemalemalemalemalemalefemalefemalefemalemale...   \nupper-middle_income  femalemalemalemalefemalemalefemalemalemalemale...   \n\n                        P_sum  \nincome_class                   \nhigh_income          0.476889  \nlow_income           0.437844  \nlower-middle_income  0.424836  \nupper-middle_income  0.479136  ",
      "text/html": "<div>\n<style scoped>\n    .dataframe tbody tr th:only-of-type {\n        vertical-align: middle;\n    }\n\n    .dataframe tbody tr th {\n        vertical-align: top;\n    }\n\n    .dataframe thead th {\n        text-align: right;\n    }\n</style>\n<table border=\"1\" class=\"dataframe\">\n  <thead>\n    <tr style=\"text-align: right;\">\n      <th></th>\n      <th>person_counter</th>\n      <th>decade</th>\n      <th>gender</th>\n      <th>P_sum</th>\n    </tr>\n    <tr>\n      <th>income_class</th>\n      <th></th>\n      <th></th>\n      <th></th>\n      <th></th>\n    </tr>\n  </thead>\n  <tbody>\n    <tr>\n      <th>high_income</th>\n      <td>1847883</td>\n      <td>1930s1930s1920s1980s1990s1970s1950s1980s1960s1...</td>\n      <td>malefemalemalemalemalemalemalefemalemalemalefe...</td>\n      <td>0.476889</td>\n    </tr>\n    <tr>\n      <th>low_income</th>\n      <td>21533</td>\n      <td>1980s1960s1970s2000s1940s1950s1990s1970s1980s1...</td>\n      <td>malemalemalefemalemalemalemalefemalefemalefema...</td>\n      <td>0.437844</td>\n    </tr>\n    <tr>\n      <th>lower-middle_income</th>\n      <td>128003</td>\n      <td>1940s1960s1930s2000s1970s1980s1980s1940s2000s1...</td>\n      <td>malemalemalemalemalemalefemalefemalefemalemale...</td>\n      <td>0.424836</td>\n    </tr>\n    <tr>\n      <th>upper-middle_income</th>\n      <td>408665</td>\n      <td>2000s1940s1960s1950s1970s1970s1940s1980s1990s1...</td>\n      <td>femalemalemalemalefemalemalefemalemalemalemale...</td>\n      <td>0.479136</td>\n    </tr>\n  </tbody>\n</table>\n</div>"
     },
     "metadata": {},
     "output_type": "display_data"
    },
    {
     "data": {
      "text/plain": "<IPython.core.display.Markdown object>",
      "text/markdown": "## Calculate percentage of claims having a specific reference type"
     },
     "metadata": {},
     "output_type": "display_data"
    },
    {
     "name": "stderr",
     "output_type": "stream",
     "text": [
      "/var/folders/l7/zj7563zj4nv2znvkzcllpvvr0000gn/T/ipykernel_81765/484825796.py:87: FutureWarning: DataFrame.groupby with axis=1 is deprecated. Do `frame.T.groupby(...)` without axis instead.\n",
      "  df_summed = copy_df_claim_with_ref_counter.groupby(level=1, axis=1).sum()\n"
     ]
    },
    {
     "data": {
      "text/plain": "                     imported from Wikimedia project (P143)  stated in (P248)  \\\n(income_class, nan)                                                             \nhigh_income                                        0.191152          0.187630   \nlow_income                                         0.245043          0.091955   \nlower-middle_income                                0.228914          0.103729   \nupper-middle_income                                0.226505          0.151344   \n\n                     inferred from (P3452)  Wikimedia import URL (P4656)  \\\n(income_class, nan)                                                        \nhigh_income                       0.005652                      0.025960   \nlow_income                        0.004496                      0.037605   \nlower-middle_income               0.004469                      0.042983   \nupper-middle_income               0.003579                      0.039314   \n\n                     retrieved (P813)  reference URL (P854)  \\\n(income_class, nan)                                           \nhigh_income                  0.173303              0.049607   \nlow_income                   0.097466              0.059252   \nlower-middle_income          0.094487              0.050706   \nupper-middle_income          0.113349              0.069402   \n\n                     based on heuristic (P887)  \n(income_class, nan)                             \nhigh_income                           0.047710  \nlow_income                            0.032656  \nlower-middle_income                   0.030452  \nupper-middle_income                   0.039874  ",
      "text/html": "<div>\n<style scoped>\n    .dataframe tbody tr th:only-of-type {\n        vertical-align: middle;\n    }\n\n    .dataframe tbody tr th {\n        vertical-align: top;\n    }\n\n    .dataframe thead th {\n        text-align: right;\n    }\n</style>\n<table border=\"1\" class=\"dataframe\">\n  <thead>\n    <tr style=\"text-align: right;\">\n      <th></th>\n      <th>imported from Wikimedia project (P143)</th>\n      <th>stated in (P248)</th>\n      <th>inferred from (P3452)</th>\n      <th>Wikimedia import URL (P4656)</th>\n      <th>retrieved (P813)</th>\n      <th>reference URL (P854)</th>\n      <th>based on heuristic (P887)</th>\n    </tr>\n    <tr>\n      <th>(income_class, nan)</th>\n      <th></th>\n      <th></th>\n      <th></th>\n      <th></th>\n      <th></th>\n      <th></th>\n      <th></th>\n    </tr>\n  </thead>\n  <tbody>\n    <tr>\n      <th>high_income</th>\n      <td>0.191152</td>\n      <td>0.187630</td>\n      <td>0.005652</td>\n      <td>0.025960</td>\n      <td>0.173303</td>\n      <td>0.049607</td>\n      <td>0.047710</td>\n    </tr>\n    <tr>\n      <th>low_income</th>\n      <td>0.245043</td>\n      <td>0.091955</td>\n      <td>0.004496</td>\n      <td>0.037605</td>\n      <td>0.097466</td>\n      <td>0.059252</td>\n      <td>0.032656</td>\n    </tr>\n    <tr>\n      <th>lower-middle_income</th>\n      <td>0.228914</td>\n      <td>0.103729</td>\n      <td>0.004469</td>\n      <td>0.042983</td>\n      <td>0.094487</td>\n      <td>0.050706</td>\n      <td>0.030452</td>\n    </tr>\n    <tr>\n      <th>upper-middle_income</th>\n      <td>0.226505</td>\n      <td>0.151344</td>\n      <td>0.003579</td>\n      <td>0.039314</td>\n      <td>0.113349</td>\n      <td>0.069402</td>\n      <td>0.039874</td>\n    </tr>\n  </tbody>\n</table>\n</div>"
     },
     "metadata": {},
     "output_type": "display_data"
    },
    {
     "data": {
      "text/plain": "<IPython.core.display.Markdown object>",
      "text/markdown": "## Calculate the average occurrence of each relation"
     },
     "metadata": {},
     "output_type": "display_data"
    },
    {
     "data": {
      "text/plain": "<IPython.core.display.Markdown object>",
      "text/markdown": "### For each decade and the top-50 most popular relations (if multiple claims occur, it is still counted as one - replacing with df_claim_counter would consider this)"
     },
     "metadata": {},
     "output_type": "display_data"
    },
    {
     "data": {
      "text/plain": "                     sex or gender (P21)  instance of (P31)  \\\nincome_class                                                  \nhigh_income                          1.0                1.0   \nlow_income                           1.0                1.0   \nlower-middle_income                  1.0                1.0   \nupper-middle_income                  1.0                1.0   \n\n                     date of birth (P569)  country of citizenship (P27)  \\\nincome_class                                                              \nhigh_income                           1.0                           1.0   \nlow_income                            1.0                           1.0   \nlower-middle_income                   1.0                           1.0   \nupper-middle_income                   1.0                           1.0   \n\n                     occupation (P106)  given name (P735)  family name (P734)  \\\nincome_class                                                                    \nhigh_income                   0.962922           0.867333            0.688481   \nlow_income                    0.978870           0.555845            0.260670   \nlower-middle_income           0.974024           0.496316            0.270580   \nupper-middle_income           0.942361           0.532598            0.324549   \n\n                     place of birth (P19)  \\\nincome_class                                \nhigh_income                      0.677751   \nlow_income                       0.661078   \nlower-middle_income              0.668711   \nupper-middle_income              0.687911   \n\n                     languages spoken, written or signed (P1412)  \\\nincome_class                                                       \nhigh_income                                             0.570859   \nlow_income                                              0.443877   \nlower-middle_income                                     0.425373   \nupper-middle_income                                     0.376015   \n\n                     educated at (P69)  ...  Europeana entity (P7704)  \\\nincome_class                            ...                             \nhigh_income                   0.317000  ...                  0.041228   \nlow_income                    0.226211  ...                  0.020062   \nlower-middle_income           0.276462  ...                  0.036687   \nupper-middle_income           0.210542  ...                  0.019593   \n\n                     spouse (P26)  genre (P136)  writing language (P6886)  \\\nincome_class                                                                \nhigh_income              0.038683      0.037086                  0.037035   \nlow_income               0.019876      0.016579                  0.007802   \nlower-middle_income      0.036687      0.019890                  0.028843   \nupper-middle_income      0.022126      0.026432                  0.006783   \n\n                     father (P22)  residence (P551)  \\\nincome_class                                          \nhigh_income              0.035915          0.035405   \nlow_income               0.016022          0.041146   \nlower-middle_income      0.027413          0.043374   \nupper-middle_income      0.017491          0.046432   \n\n                     on focus list of Wikimedia project (P5008)  \\\nincome_class                                                      \nhigh_income                                            0.029856   \nlow_income                                             0.032276   \nlower-middle_income                                    0.016882   \nupper-middle_income                                    0.042835   \n\n                     academic degree (P512)  religion or worldview (P140)  \\\nincome_class                                                                \nhigh_income                        0.029434                      0.017417   \nlow_income                         0.007430                      0.082153   \nlower-middle_income                0.016804                      0.081451   \nupper-middle_income                0.025432                      0.154420   \n\n                     candidacy in election (P3602)  \nincome_class                                        \nhigh_income                               0.015587  \nlow_income                                0.008499  \nlower-middle_income                       0.014093  \nupper-middle_income                       0.134002  \n\n[4 rows x 50 columns]",
      "text/html": "<div>\n<style scoped>\n    .dataframe tbody tr th:only-of-type {\n        vertical-align: middle;\n    }\n\n    .dataframe tbody tr th {\n        vertical-align: top;\n    }\n\n    .dataframe thead th {\n        text-align: right;\n    }\n</style>\n<table border=\"1\" class=\"dataframe\">\n  <thead>\n    <tr style=\"text-align: right;\">\n      <th></th>\n      <th>sex or gender (P21)</th>\n      <th>instance of (P31)</th>\n      <th>date of birth (P569)</th>\n      <th>country of citizenship (P27)</th>\n      <th>occupation (P106)</th>\n      <th>given name (P735)</th>\n      <th>family name (P734)</th>\n      <th>place of birth (P19)</th>\n      <th>languages spoken, written or signed (P1412)</th>\n      <th>educated at (P69)</th>\n      <th>...</th>\n      <th>Europeana entity (P7704)</th>\n      <th>spouse (P26)</th>\n      <th>genre (P136)</th>\n      <th>writing language (P6886)</th>\n      <th>father (P22)</th>\n      <th>residence (P551)</th>\n      <th>on focus list of Wikimedia project (P5008)</th>\n      <th>academic degree (P512)</th>\n      <th>religion or worldview (P140)</th>\n      <th>candidacy in election (P3602)</th>\n    </tr>\n    <tr>\n      <th>income_class</th>\n      <th></th>\n      <th></th>\n      <th></th>\n      <th></th>\n      <th></th>\n      <th></th>\n      <th></th>\n      <th></th>\n      <th></th>\n      <th></th>\n      <th></th>\n      <th></th>\n      <th></th>\n      <th></th>\n      <th></th>\n      <th></th>\n      <th></th>\n      <th></th>\n      <th></th>\n      <th></th>\n      <th></th>\n    </tr>\n  </thead>\n  <tbody>\n    <tr>\n      <th>high_income</th>\n      <td>1.0</td>\n      <td>1.0</td>\n      <td>1.0</td>\n      <td>1.0</td>\n      <td>0.962922</td>\n      <td>0.867333</td>\n      <td>0.688481</td>\n      <td>0.677751</td>\n      <td>0.570859</td>\n      <td>0.317000</td>\n      <td>...</td>\n      <td>0.041228</td>\n      <td>0.038683</td>\n      <td>0.037086</td>\n      <td>0.037035</td>\n      <td>0.035915</td>\n      <td>0.035405</td>\n      <td>0.029856</td>\n      <td>0.029434</td>\n      <td>0.017417</td>\n      <td>0.015587</td>\n    </tr>\n    <tr>\n      <th>low_income</th>\n      <td>1.0</td>\n      <td>1.0</td>\n      <td>1.0</td>\n      <td>1.0</td>\n      <td>0.978870</td>\n      <td>0.555845</td>\n      <td>0.260670</td>\n      <td>0.661078</td>\n      <td>0.443877</td>\n      <td>0.226211</td>\n      <td>...</td>\n      <td>0.020062</td>\n      <td>0.019876</td>\n      <td>0.016579</td>\n      <td>0.007802</td>\n      <td>0.016022</td>\n      <td>0.041146</td>\n      <td>0.032276</td>\n      <td>0.007430</td>\n      <td>0.082153</td>\n      <td>0.008499</td>\n    </tr>\n    <tr>\n      <th>lower-middle_income</th>\n      <td>1.0</td>\n      <td>1.0</td>\n      <td>1.0</td>\n      <td>1.0</td>\n      <td>0.974024</td>\n      <td>0.496316</td>\n      <td>0.270580</td>\n      <td>0.668711</td>\n      <td>0.425373</td>\n      <td>0.276462</td>\n      <td>...</td>\n      <td>0.036687</td>\n      <td>0.036687</td>\n      <td>0.019890</td>\n      <td>0.028843</td>\n      <td>0.027413</td>\n      <td>0.043374</td>\n      <td>0.016882</td>\n      <td>0.016804</td>\n      <td>0.081451</td>\n      <td>0.014093</td>\n    </tr>\n    <tr>\n      <th>upper-middle_income</th>\n      <td>1.0</td>\n      <td>1.0</td>\n      <td>1.0</td>\n      <td>1.0</td>\n      <td>0.942361</td>\n      <td>0.532598</td>\n      <td>0.324549</td>\n      <td>0.687911</td>\n      <td>0.376015</td>\n      <td>0.210542</td>\n      <td>...</td>\n      <td>0.019593</td>\n      <td>0.022126</td>\n      <td>0.026432</td>\n      <td>0.006783</td>\n      <td>0.017491</td>\n      <td>0.046432</td>\n      <td>0.042835</td>\n      <td>0.025432</td>\n      <td>0.154420</td>\n      <td>0.134002</td>\n    </tr>\n  </tbody>\n</table>\n<p>4 rows × 50 columns</p>\n</div>"
     },
     "metadata": {},
     "output_type": "display_data"
    },
    {
     "data": {
      "text/plain": "<IPython.core.display.Markdown object>",
      "text/markdown": "### For each decade and the top-50 relations that are equipped with the most references (not just counting the claims with references but the ratio of claims with references to all claims)"
     },
     "metadata": {},
     "output_type": "display_data"
    },
    {
     "data": {
      "text/plain": "                     sex or gender (P21)  date of birth (P569)  \\\nincome_class                                                     \nhigh_income                          1.0                   1.0   \nlow_income                           1.0                   1.0   \nlower-middle_income                  1.0                   1.0   \nupper-middle_income                  1.0                   1.0   \n\n                     date of death (P570)  position held (P39)  \\\nincome_class                                                     \nhigh_income                      0.171577             0.121845   \nlow_income                       0.161148             0.193470   \nlower-middle_income              0.187144             0.177066   \nupper-middle_income              0.140585             0.095193   \n\n                     height (P2048)  X (Twitter) username (P2002)  \\\nincome_class                                                        \nhigh_income                0.093259                      0.075807   \nlow_income                 0.118284                      0.044443   \nlower-middle_income        0.083154                      0.055428   \nupper-middle_income        0.088158                      0.043236   \n\n                     country for sport (P1532)  \\\nincome_class                                     \nhigh_income                           0.075632   \nlow_income                            0.083686   \nlower-middle_income                   0.084053   \nupper-middle_income                   0.092176   \n\n                     member of political party (P102)  mass (P2067)  \\\nincome_class                                                          \nhigh_income                                  0.073735      0.067388   \nlow_income                                   0.122324      0.061951   \nlower-middle_income                          0.141708      0.043976   \nupper-middle_income                          0.238202      0.054135   \n\n                     Instagram username (P2003)  ...  \\\nincome_class                                     ...   \nhigh_income                            0.056189  ...   \nlow_income                             0.037152  ...   \nlower-middle_income                    0.061772  ...   \nupper-middle_income                    0.062526  ...   \n\n                     significant person (P3342)  political ideology (P1142)  \\\nincome_class                                                                  \nhigh_income                            0.000693                    0.000621   \nlow_income                             0.000511                    0.001161   \nlower-middle_income                    0.000586                    0.001250   \nupper-middle_income                    0.000279                    0.000651   \n\n                     Wikimedia username (P4174)  subject has role (P2868)  \\\nincome_class                                                                \nhigh_income                            0.000586                  0.000540   \nlow_income                             0.000372                  0.000697   \nlower-middle_income                    0.000656                  0.000234   \nupper-middle_income                    0.000303                  0.000223   \n\n                     contributed to creative work (P3919)  lifestyle (P1576)  \\\nincome_class                                                                   \nhigh_income                                      0.000513           0.000341   \nlow_income                                       0.000093           0.000139   \nlower-middle_income                              0.000125           0.000117   \nupper-middle_income                              0.000091           0.000139   \n\n                     academic appointment (P8413)  killed by (P157)  \\\nincome_class                                                          \nhigh_income                              0.000333          0.000270   \nlow_income                               0.000000          0.000789   \nlower-middle_income                      0.000102          0.001742   \nupper-middle_income                      0.000071          0.000947   \n\n                     date of disappearance (P746)  NIP (P11429)  \nincome_class                                                     \nhigh_income                              0.000238  5.411598e-07  \nlow_income                               0.000882  0.000000e+00  \nlower-middle_income                      0.000211  0.000000e+00  \nupper-middle_income                      0.000837  2.893323e-02  \n\n[4 rows x 50 columns]",
      "text/html": "<div>\n<style scoped>\n    .dataframe tbody tr th:only-of-type {\n        vertical-align: middle;\n    }\n\n    .dataframe tbody tr th {\n        vertical-align: top;\n    }\n\n    .dataframe thead th {\n        text-align: right;\n    }\n</style>\n<table border=\"1\" class=\"dataframe\">\n  <thead>\n    <tr style=\"text-align: right;\">\n      <th></th>\n      <th>sex or gender (P21)</th>\n      <th>date of birth (P569)</th>\n      <th>date of death (P570)</th>\n      <th>position held (P39)</th>\n      <th>height (P2048)</th>\n      <th>X (Twitter) username (P2002)</th>\n      <th>country for sport (P1532)</th>\n      <th>member of political party (P102)</th>\n      <th>mass (P2067)</th>\n      <th>Instagram username (P2003)</th>\n      <th>...</th>\n      <th>significant person (P3342)</th>\n      <th>political ideology (P1142)</th>\n      <th>Wikimedia username (P4174)</th>\n      <th>subject has role (P2868)</th>\n      <th>contributed to creative work (P3919)</th>\n      <th>lifestyle (P1576)</th>\n      <th>academic appointment (P8413)</th>\n      <th>killed by (P157)</th>\n      <th>date of disappearance (P746)</th>\n      <th>NIP (P11429)</th>\n    </tr>\n    <tr>\n      <th>income_class</th>\n      <th></th>\n      <th></th>\n      <th></th>\n      <th></th>\n      <th></th>\n      <th></th>\n      <th></th>\n      <th></th>\n      <th></th>\n      <th></th>\n      <th></th>\n      <th></th>\n      <th></th>\n      <th></th>\n      <th></th>\n      <th></th>\n      <th></th>\n      <th></th>\n      <th></th>\n      <th></th>\n      <th></th>\n    </tr>\n  </thead>\n  <tbody>\n    <tr>\n      <th>high_income</th>\n      <td>1.0</td>\n      <td>1.0</td>\n      <td>0.171577</td>\n      <td>0.121845</td>\n      <td>0.093259</td>\n      <td>0.075807</td>\n      <td>0.075632</td>\n      <td>0.073735</td>\n      <td>0.067388</td>\n      <td>0.056189</td>\n      <td>...</td>\n      <td>0.000693</td>\n      <td>0.000621</td>\n      <td>0.000586</td>\n      <td>0.000540</td>\n      <td>0.000513</td>\n      <td>0.000341</td>\n      <td>0.000333</td>\n      <td>0.000270</td>\n      <td>0.000238</td>\n      <td>5.411598e-07</td>\n    </tr>\n    <tr>\n      <th>low_income</th>\n      <td>1.0</td>\n      <td>1.0</td>\n      <td>0.161148</td>\n      <td>0.193470</td>\n      <td>0.118284</td>\n      <td>0.044443</td>\n      <td>0.083686</td>\n      <td>0.122324</td>\n      <td>0.061951</td>\n      <td>0.037152</td>\n      <td>...</td>\n      <td>0.000511</td>\n      <td>0.001161</td>\n      <td>0.000372</td>\n      <td>0.000697</td>\n      <td>0.000093</td>\n      <td>0.000139</td>\n      <td>0.000000</td>\n      <td>0.000789</td>\n      <td>0.000882</td>\n      <td>0.000000e+00</td>\n    </tr>\n    <tr>\n      <th>lower-middle_income</th>\n      <td>1.0</td>\n      <td>1.0</td>\n      <td>0.187144</td>\n      <td>0.177066</td>\n      <td>0.083154</td>\n      <td>0.055428</td>\n      <td>0.084053</td>\n      <td>0.141708</td>\n      <td>0.043976</td>\n      <td>0.061772</td>\n      <td>...</td>\n      <td>0.000586</td>\n      <td>0.001250</td>\n      <td>0.000656</td>\n      <td>0.000234</td>\n      <td>0.000125</td>\n      <td>0.000117</td>\n      <td>0.000102</td>\n      <td>0.001742</td>\n      <td>0.000211</td>\n      <td>0.000000e+00</td>\n    </tr>\n    <tr>\n      <th>upper-middle_income</th>\n      <td>1.0</td>\n      <td>1.0</td>\n      <td>0.140585</td>\n      <td>0.095193</td>\n      <td>0.088158</td>\n      <td>0.043236</td>\n      <td>0.092176</td>\n      <td>0.238202</td>\n      <td>0.054135</td>\n      <td>0.062526</td>\n      <td>...</td>\n      <td>0.000279</td>\n      <td>0.000651</td>\n      <td>0.000303</td>\n      <td>0.000223</td>\n      <td>0.000091</td>\n      <td>0.000139</td>\n      <td>0.000071</td>\n      <td>0.000947</td>\n      <td>0.000837</td>\n      <td>2.893323e-02</td>\n    </tr>\n  </tbody>\n</table>\n<p>4 rows × 50 columns</p>\n</div>"
     },
     "metadata": {},
     "output_type": "display_data"
    },
    {
     "data": {
      "text/plain": "<IPython.core.display.Markdown object>",
      "text/markdown": "## Calculate average use of references"
     },
     "metadata": {},
     "output_type": "display_data"
    },
    {
     "data": {
      "text/plain": "<IPython.core.display.Markdown object>",
      "text/markdown": "### For each decade and the top-50 most popular relations - normalized by claims"
     },
     "metadata": {},
     "output_type": "display_data"
    },
    {
     "name": "stderr",
     "output_type": "stream",
     "text": [
      "/var/folders/l7/zj7563zj4nv2znvkzcllpvvr0000gn/T/ipykernel_81765/484825796.py:38: FutureWarning: DataFrame.groupby with axis=1 is deprecated. Do `frame.T.groupby(...)` without axis instead.\n",
      "  normalized_num_refs_per_pid = normalized_num_refs_per_pid.groupby(level=1, axis=1).mean()\n"
     ]
    },
    {
     "data": {
      "text/plain": "                     imported from Wikimedia project (P143)  retrieved (P813)  \\\n(income_class, nan)                                                             \nhigh_income                                        0.280972          0.193196   \nlow_income                                         0.255829          0.128389   \nlower-middle_income                                0.276739          0.121419   \nupper-middle_income                                0.285113          0.139219   \n\n                     stated in (P248)  reference URL (P854)  \\\n(income_class, nan)                                           \nhigh_income                  0.143032              0.080586   \nlow_income                   0.084501              0.086667   \nlower-middle_income          0.071812              0.079959   \nupper-middle_income          0.122592              0.073045   \n\n                     based on heuristic (P887)  Wikimedia import URL (P4656)  \\\n(income_class, nan)                                                            \nhigh_income                           0.060451                      0.058861   \nlow_income                            0.054466                      0.074755   \nlower-middle_income                   0.054941                      0.080152   \nupper-middle_income                   0.065198                      0.084068   \n\n                     inferred from (P3452)  \n(income_class, nan)                         \nhigh_income                       0.006280  \nlow_income                        0.013340  \nlower-middle_income               0.007011  \nupper-middle_income               0.003671  ",
      "text/html": "<div>\n<style scoped>\n    .dataframe tbody tr th:only-of-type {\n        vertical-align: middle;\n    }\n\n    .dataframe tbody tr th {\n        vertical-align: top;\n    }\n\n    .dataframe thead th {\n        text-align: right;\n    }\n</style>\n<table border=\"1\" class=\"dataframe\">\n  <thead>\n    <tr style=\"text-align: right;\">\n      <th></th>\n      <th>imported from Wikimedia project (P143)</th>\n      <th>retrieved (P813)</th>\n      <th>stated in (P248)</th>\n      <th>reference URL (P854)</th>\n      <th>based on heuristic (P887)</th>\n      <th>Wikimedia import URL (P4656)</th>\n      <th>inferred from (P3452)</th>\n    </tr>\n    <tr>\n      <th>(income_class, nan)</th>\n      <th></th>\n      <th></th>\n      <th></th>\n      <th></th>\n      <th></th>\n      <th></th>\n      <th></th>\n    </tr>\n  </thead>\n  <tbody>\n    <tr>\n      <th>high_income</th>\n      <td>0.280972</td>\n      <td>0.193196</td>\n      <td>0.143032</td>\n      <td>0.080586</td>\n      <td>0.060451</td>\n      <td>0.058861</td>\n      <td>0.006280</td>\n    </tr>\n    <tr>\n      <th>low_income</th>\n      <td>0.255829</td>\n      <td>0.128389</td>\n      <td>0.084501</td>\n      <td>0.086667</td>\n      <td>0.054466</td>\n      <td>0.074755</td>\n      <td>0.013340</td>\n    </tr>\n    <tr>\n      <th>lower-middle_income</th>\n      <td>0.276739</td>\n      <td>0.121419</td>\n      <td>0.071812</td>\n      <td>0.079959</td>\n      <td>0.054941</td>\n      <td>0.080152</td>\n      <td>0.007011</td>\n    </tr>\n    <tr>\n      <th>upper-middle_income</th>\n      <td>0.285113</td>\n      <td>0.139219</td>\n      <td>0.122592</td>\n      <td>0.073045</td>\n      <td>0.065198</td>\n      <td>0.084068</td>\n      <td>0.003671</td>\n    </tr>\n  </tbody>\n</table>\n</div>"
     },
     "metadata": {},
     "output_type": "display_data"
    },
    {
     "data": {
      "text/plain": "<IPython.core.display.Markdown object>",
      "text/markdown": "### For each decade and the top-50 relations - normalized by claims with references"
     },
     "metadata": {},
     "output_type": "display_data"
    },
    {
     "name": "stderr",
     "output_type": "stream",
     "text": [
      "/var/folders/l7/zj7563zj4nv2znvkzcllpvvr0000gn/T/ipykernel_81765/484825796.py:38: FutureWarning: DataFrame.groupby with axis=1 is deprecated. Do `frame.T.groupby(...)` without axis instead.\n",
      "  normalized_num_refs_per_pid = normalized_num_refs_per_pid.groupby(level=1, axis=1).mean()\n"
     ]
    },
    {
     "data": {
      "text/plain": "                     imported from Wikimedia project (P143)  retrieved (P813)  \\\n(income_class, nan)                                                             \nhigh_income                                        0.497937          0.355280   \nlow_income                                         0.481928          0.279426   \nlower-middle_income                                0.521353          0.263023   \nupper-middle_income                                0.537009          0.274637   \n\n                     stated in (P248)  reference URL (P854)  \\\n(income_class, nan)                                           \nhigh_income                  0.285389              0.152233   \nlow_income                   0.218016              0.195093   \nlower-middle_income          0.191640              0.180917   \nupper-middle_income          0.235423              0.152988   \n\n                     Wikimedia import URL (P4656)  based on heuristic (P887)  \\\n(income_class, nan)                                                            \nhigh_income                              0.106220                   0.094414   \nlow_income                               0.150689                   0.102924   \nlower-middle_income                      0.163460                   0.098937   \nupper-middle_income                      0.162519                   0.110497   \n\n                     inferred from (P3452)  \n(income_class, nan)                         \nhigh_income                       0.022598  \nlow_income                        0.020605  \nlower-middle_income               0.014866  \nupper-middle_income               0.016034  ",
      "text/html": "<div>\n<style scoped>\n    .dataframe tbody tr th:only-of-type {\n        vertical-align: middle;\n    }\n\n    .dataframe tbody tr th {\n        vertical-align: top;\n    }\n\n    .dataframe thead th {\n        text-align: right;\n    }\n</style>\n<table border=\"1\" class=\"dataframe\">\n  <thead>\n    <tr style=\"text-align: right;\">\n      <th></th>\n      <th>imported from Wikimedia project (P143)</th>\n      <th>retrieved (P813)</th>\n      <th>stated in (P248)</th>\n      <th>reference URL (P854)</th>\n      <th>Wikimedia import URL (P4656)</th>\n      <th>based on heuristic (P887)</th>\n      <th>inferred from (P3452)</th>\n    </tr>\n    <tr>\n      <th>(income_class, nan)</th>\n      <th></th>\n      <th></th>\n      <th></th>\n      <th></th>\n      <th></th>\n      <th></th>\n      <th></th>\n    </tr>\n  </thead>\n  <tbody>\n    <tr>\n      <th>high_income</th>\n      <td>0.497937</td>\n      <td>0.355280</td>\n      <td>0.285389</td>\n      <td>0.152233</td>\n      <td>0.106220</td>\n      <td>0.094414</td>\n      <td>0.022598</td>\n    </tr>\n    <tr>\n      <th>low_income</th>\n      <td>0.481928</td>\n      <td>0.279426</td>\n      <td>0.218016</td>\n      <td>0.195093</td>\n      <td>0.150689</td>\n      <td>0.102924</td>\n      <td>0.020605</td>\n    </tr>\n    <tr>\n      <th>lower-middle_income</th>\n      <td>0.521353</td>\n      <td>0.263023</td>\n      <td>0.191640</td>\n      <td>0.180917</td>\n      <td>0.163460</td>\n      <td>0.098937</td>\n      <td>0.014866</td>\n    </tr>\n    <tr>\n      <th>upper-middle_income</th>\n      <td>0.537009</td>\n      <td>0.274637</td>\n      <td>0.235423</td>\n      <td>0.152988</td>\n      <td>0.162519</td>\n      <td>0.110497</td>\n      <td>0.016034</td>\n    </tr>\n  </tbody>\n</table>\n</div>"
     },
     "metadata": {},
     "output_type": "display_data"
    }
   ],
   "source": [
    "calculate_all_stats(df_pid_counter, df_claim_counter, df_claim_with_ref_counter, df_num_refs, df_num_refs_per_pid, group_by=['income_class'])"
   ]
  },
  {
   "cell_type": "code",
   "execution_count": 215,
   "metadata": {
    "collapsed": false,
    "jupyter": {
     "outputs_hidden": false
    },
    "ExecuteTime": {
     "end_time": "2025-07-24T11:34:41.941166Z",
     "start_time": "2025-07-24T11:33:52.115566Z"
    }
   },
   "outputs": [],
   "source": [
    "#calculate_all_stats(df_pid_counter, df_claim_counter, df_claim_with_ref_counter, df_num_refs, df_num_refs_per_pid, group_by=['income_class', 'decade'])"
   ]
  },
  {
   "cell_type": "code",
   "execution_count": 216,
   "metadata": {
    "collapsed": false,
    "jupyter": {
     "outputs_hidden": false
    },
    "ExecuteTime": {
     "end_time": "2025-07-24T11:34:41.944007Z",
     "start_time": "2025-07-24T11:33:52.118568Z"
    }
   },
   "outputs": [],
   "source": [
    "#calculate_all_stats(df_pid_counter, df_claim_counter, df_claim_with_ref_counter, df_num_refs, df_num_refs_per_pid, group_by=['income_class', 'gender'])"
   ]
  },
  {
   "cell_type": "markdown",
   "metadata": {
    "collapsed": false,
    "jupyter": {
     "outputs_hidden": false
    }
   },
   "source": []
  }
 ],
 "metadata": {
  "kernelspec": {
   "display_name": "Python 3 (ipykernel)",
   "language": "python",
   "name": "python3"
  },
  "language_info": {
   "codemirror_mode": {
    "name": "ipython",
    "version": 3
   },
   "file_extension": ".py",
   "mimetype": "text/x-python",
   "name": "python",
   "nbconvert_exporter": "python",
   "pygments_lexer": "ipython3",
   "version": "3.9.23"
  }
 },
 "nbformat": 4,
 "nbformat_minor": 4
}
