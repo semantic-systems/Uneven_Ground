{
 "cells": [
  {
   "cell_type": "code",
   "execution_count": 1,
   "id": "initial_id",
   "metadata": {
    "ExecuteTime": {
     "end_time": "2025-05-12T11:24:16.368265Z",
     "start_time": "2025-05-12T11:24:16.059677Z"
    },
    "collapsed": true
   },
   "outputs": [],
   "source": [
    "import json\n",
    "import os\n",
    "import gzip\n",
    "from pprint import pprint\n",
    "from collections import defaultdict\n",
    "import pandas as pd\n"
   ]
  },
  {
   "cell_type": "code",
   "execution_count": 2,
   "id": "861d2806ced0c5ec",
   "metadata": {
    "ExecuteTime": {
     "end_time": "2025-05-12T11:24:16.372012Z",
     "start_time": "2025-05-12T11:24:16.369144Z"
    }
   },
   "outputs": [],
   "source": [
    "def get_subject_properties(person_statements_file, subject_properties):\n",
    "    with gzip.open(person_statements_file) as f:\n",
    "        for line in f:\n",
    "            entry = json.loads(line)\n",
    "            subject_properties[entry[\"id\"]] = {\"income_class\": entry[\"income_class\"], \"country_id\": entry[\"country_id\"], \"gender\": entry[\"gender\"]}\n",
    "    return subject_properties\n",
    "\n",
    "#subject_properties = {}\n",
    "#subject_properties = get_subject_properties(os.path.join(\"..\", \"data\", \"person_statements\", \"person_statements_part1.jsonl.gz\"), subject_properties)\n",
    "#subject_properties = get_subject_properties(os.path.join(\"..\", \"data\", \"person_statements\", \"person_statements_part2.jsonl.gz\"), subject_properties)"
   ]
  },
  {
   "cell_type": "code",
   "execution_count": 3,
   "id": "a9a91a6e8f3945a8",
   "metadata": {
    "ExecuteTime": {
     "end_time": "2025-05-12T11:24:16.376910Z",
     "start_time": "2025-05-12T11:24:16.373433Z"
    }
   },
   "outputs": [
    {
     "name": "stdout",
     "output_type": "stream",
     "text": [
      "dict_keys(['Subject', 'Predicate', 'Object', 'SubjectID', 'PredicateID', 'ObjectID', 'URL', 'IncomeClass', 'BirthYear', 'RefDoc', 'claim', 'has_ref', 'evidence', 'certain_claim', 'history_claims', 'ask_questions', 'question_answers', 'sub_claims', 'verify_results', 'prediction', 'model_output'])\n"
     ]
    }
   ],
   "source": [
    "with open(os.path.join(\"..\", \"data\", \"10k_incomeClass_pred.json\")) as f:\n",
    "    count = 1\n",
    "    for line in f:\n",
    "        if count > 0 :\n",
    "            data = json.loads(line)\n",
    "            print(data.keys())\n",
    "            count -= 1\n",
    "        else:\n",
    "            break"
   ]
  },
  {
   "cell_type": "code",
   "execution_count": 4,
   "id": "531d504d125c0b59",
   "metadata": {
    "ExecuteTime": {
     "end_time": "2025-05-12T11:24:16.791388Z",
     "start_time": "2025-05-12T11:24:16.379313Z"
    }
   },
   "outputs": [],
   "source": [
    "def get_prediction_counts(predictions_file):\n",
    "    by_income = defaultdict(lambda: defaultdict(int))\n",
    "    by_income_lists = defaultdict(list)\n",
    "    by_country = {}\n",
    "    by_gender = {}\n",
    "    prediction_labels = [\"Model Error\", \"supports\", \"undecided\", \"refutes\"]\n",
    "    value_map = dict(zip(prediction_labels, [i for i in range(len(prediction_labels))]))\n",
    "\n",
    "    with open(predictions_file) as f:\n",
    "        for line in f:\n",
    "            data = json.loads(line)\n",
    "            try:\n",
    "                by_income[data[\"IncomeClass\"]][data[\"prediction\"]] += 1\n",
    "                by_income_lists[data[\"IncomeClass\"]] += [value_map[data[\"prediction\"]]]\n",
    "            except KeyError:\n",
    "                by_income[data[\"IncomeClass\"]][\"None\"] += 1\n",
    "    return by_income, by_income_lists\n",
    "\n",
    "predictions_by_income, predictions_by_income_lists = get_prediction_counts(os.path.join(\"..\", \"data\", \"10k_incomeClass_pred.json\"))\n"
   ]
  },
  {
   "cell_type": "code",
   "execution_count": 5,
   "id": "8de531a61d45ecbf",
   "metadata": {
    "ExecuteTime": {
     "end_time": "2025-05-12T11:24:16.797276Z",
     "start_time": "2025-05-12T11:24:16.791965Z"
    }
   },
   "outputs": [
    {
     "data": {
      "text/plain": [
       "dict_keys(['high_income', 'low_income', 'lower-middle_income', 'upper-middle_income'])"
      ]
     },
     "execution_count": 5,
     "metadata": {},
     "output_type": "execute_result"
    }
   ],
   "source": [
    "predictions_by_income_lists.keys()"
   ]
  },
  {
   "cell_type": "code",
   "execution_count": 6,
   "id": "46670e6f6a9383ca",
   "metadata": {
    "ExecuteTime": {
     "end_time": "2025-05-12T11:24:16.801017Z",
     "start_time": "2025-05-12T11:24:16.798259Z"
    }
   },
   "outputs": [
    {
     "name": "stdout",
     "output_type": "stream",
     "text": [
      "defaultdict(<function get_prediction_counts.<locals>.<lambda> at 0x11f753dc0>,\n",
      "            {'high_income': defaultdict(<class 'int'>,\n",
      "                                        {'Model Error': 1364,\n",
      "                                         'refutes': 100,\n",
      "                                         'supports': 759,\n",
      "                                         'undecided': 277}),\n",
      "             'low_income': defaultdict(<class 'int'>,\n",
      "                                       {'Model Error': 1379,\n",
      "                                        'refutes': 101,\n",
      "                                        'supports': 730,\n",
      "                                        'undecided': 290}),\n",
      "             'lower-middle_income': defaultdict(<class 'int'>,\n",
      "                                                {'Model Error': 1504,\n",
      "                                                 'refutes': 81,\n",
      "                                                 'supports': 701,\n",
      "                                                 'undecided': 214}),\n",
      "             'upper-middle_income': defaultdict(<class 'int'>,\n",
      "                                                {'Model Error': 1295,\n",
      "                                                 'refutes': 136,\n",
      "                                                 'supports': 680,\n",
      "                                                 'undecided': 389})})\n"
     ]
    }
   ],
   "source": [
    "pprint(predictions_by_income)"
   ]
  },
  {
   "cell_type": "code",
   "execution_count": 10,
   "id": "f6c572eb5ad58610",
   "metadata": {
    "ExecuteTime": {
     "end_time": "2025-05-12T12:01:48.660004Z",
     "start_time": "2025-05-12T12:01:48.616484Z"
    }
   },
   "outputs": [
    {
     "data": {
      "text/html": [
       "<div>\n",
       "<style scoped>\n",
       "    .dataframe tbody tr th:only-of-type {\n",
       "        vertical-align: middle;\n",
       "    }\n",
       "\n",
       "    .dataframe tbody tr th {\n",
       "        vertical-align: top;\n",
       "    }\n",
       "\n",
       "    .dataframe thead th {\n",
       "        text-align: right;\n",
       "    }\n",
       "</style>\n",
       "<table border=\"1\" class=\"dataframe\">\n",
       "  <thead>\n",
       "    <tr style=\"text-align: right;\">\n",
       "      <th></th>\n",
       "      <th>low_income</th>\n",
       "      <th>lower-middle_income</th>\n",
       "      <th>upper-middle_income</th>\n",
       "      <th>high_income</th>\n",
       "      <th>total</th>\n",
       "      <th>lower_income</th>\n",
       "      <th>higher_income</th>\n",
       "    </tr>\n",
       "  </thead>\n",
       "  <tbody>\n",
       "    <tr>\n",
       "      <th>supports</th>\n",
       "      <td>0.651204</td>\n",
       "      <td>0.703815</td>\n",
       "      <td>0.564315</td>\n",
       "      <td>0.668134</td>\n",
       "      <td>0.643786</td>\n",
       "      <td>0.675957</td>\n",
       "      <td>0.614695</td>\n",
       "    </tr>\n",
       "    <tr>\n",
       "      <th>undecided</th>\n",
       "      <td>0.258698</td>\n",
       "      <td>0.214859</td>\n",
       "      <td>0.322822</td>\n",
       "      <td>0.243838</td>\n",
       "      <td>0.262450</td>\n",
       "      <td>0.238073</td>\n",
       "      <td>0.284494</td>\n",
       "    </tr>\n",
       "    <tr>\n",
       "      <th>refutes</th>\n",
       "      <td>0.090098</td>\n",
       "      <td>0.081325</td>\n",
       "      <td>0.112863</td>\n",
       "      <td>0.088028</td>\n",
       "      <td>0.093764</td>\n",
       "      <td>0.085971</td>\n",
       "      <td>0.100812</td>\n",
       "    </tr>\n",
       "  </tbody>\n",
       "</table>\n",
       "</div>"
      ],
      "text/plain": [
       "           low_income  lower-middle_income  upper-middle_income  high_income  \\\n",
       "supports     0.651204             0.703815             0.564315     0.668134   \n",
       "undecided    0.258698             0.214859             0.322822     0.243838   \n",
       "refutes      0.090098             0.081325             0.112863     0.088028   \n",
       "\n",
       "              total  lower_income  higher_income  \n",
       "supports   0.643786      0.675957       0.614695  \n",
       "undecided  0.262450      0.238073       0.284494  \n",
       "refutes    0.093764      0.085971       0.100812  "
      ]
     },
     "execution_count": 10,
     "metadata": {},
     "output_type": "execute_result"
    }
   ],
   "source": [
    "predictions_by_income_df = pd.DataFrame.from_dict(predictions_by_income)\n",
    "predictions_by_income_df = predictions_by_income_df.loc[predictions_by_income_df.index != \"Model Error\", :]\n",
    "predictions_by_income_df = predictions_by_income_df[[\"low_income\", \"lower-middle_income\", \"upper-middle_income\", \"high_income\"]]\n",
    "predictions_by_income_df[\"total\"] = predictions_by_income_df.sum(axis=1)\n",
    "predictions_by_income_df[\"lower_income\"] = predictions_by_income_df[[\"low_income\", \"lower-middle_income\"]].sum(axis=1)\n",
    "predictions_by_income_df[\"higher_income\"] = predictions_by_income_df[[\"high_income\", \"upper-middle_income\"]].sum(axis=1)\n",
    "predictions_by_income_df.div(predictions_by_income_df.sum(axis=0), axis=1)"
   ]
  }
 ],
 "metadata": {
  "kernelspec": {
   "display_name": "crisis_lm",
   "language": "python",
   "name": "crisis_lm"
  },
  "language_info": {
   "codemirror_mode": {
    "name": "ipython",
    "version": 2
   },
   "file_extension": ".py",
   "mimetype": "text/x-python",
   "name": "python",
   "nbconvert_exporter": "python",
   "pygments_lexer": "ipython2",
   "version": "2.7.6"
  }
 },
 "nbformat": 4,
 "nbformat_minor": 5
}
